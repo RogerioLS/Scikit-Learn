{
 "cells": [
  {
   "cell_type": "markdown",
   "metadata": {},
   "source": [
    "# Nested cross-validation\n",
    "\n",
    "Neste bloco de notas, mostramos um padrão chamado `nested cross-validation` que deve ser usado quando você deseja avaliar um modelo e ajustar os hiperparâmetros do modelo.\n",
    "\n",
    "A validação cruzada é uma ferramenta poderosa para avaliar o desempenho de generalização de um modelo. Também é usado para selecionar o melhor modelo de um conjunto de modelos. Este conjunto de modelos pode ser a mesma família de preditor, mas com parâmetros diferentes. Nesse caso, chamamos esse procedimento de `hyperparameter tuning.`\n",
    "\n",
    "Também podemos imaginar que gostaríamos de escolher entre modelos heterogêneos que usarão de forma semelhante a validação cruzada.\n",
    "\n",
    "Antes de entrarmos em detalhes sobre a validação cruzada aninhada, primeiro vamos relembrar o padrão usado para ajustar os hiperparâmetros de um modelo.\n",
    "\n",
    "Vamos carregar o conjunto de dados do câncer de mama."
   ]
  },
  {
   "cell_type": "code",
   "execution_count": 1,
   "metadata": {},
   "outputs": [],
   "source": [
    "from sklearn.datasets import load_breast_cancer\n",
    "\n",
    "data, target = load_breast_cancer(return_X_y=True)"
   ]
  },
  {
   "cell_type": "markdown",
   "metadata": {},
   "source": [
    "Agora, faremos um exemplo mínimo usando o utilitário `GridSearchCV` para encontrar os melhores parâmetros por meio de validação cruzada."
   ]
  },
  {
   "cell_type": "code",
   "execution_count": 2,
   "metadata": {},
   "outputs": [
    {
     "data": {
      "text/plain": [
       "GridSearchCV(estimator=SVC(), n_jobs=2,\n",
       "             param_grid={'C': [0.1, 1, 10], 'gamma': [0.01, 0.1]})"
      ]
     },
     "execution_count": 2,
     "metadata": {},
     "output_type": "execute_result"
    }
   ],
   "source": [
    "from sklearn.model_selection import GridSearchCV\n",
    "from sklearn.svm import SVC\n",
    "\n",
    "param_grid = {\"C\": [0.1, 1, 10], \"gamma\": [.01, .1]}\n",
    "model_to_tune = SVC()\n",
    "\n",
    "search = GridSearchCV(estimator=model_to_tune, param_grid=param_grid,\n",
    "                      n_jobs=2)\n",
    "search.fit(data, target)"
   ]
  },
  {
   "cell_type": "markdown",
   "metadata": {},
   "source": [
    "Lembramos que `GridSearchCV` vamos treinar um modelo com algum parâmetro específico em um conjunto de treinamento e avaliá-lo em testes. No entanto, essa avaliação é feita por meio de validação cruzada usando o cvparâmetro. Este procedimento é repetido para todas as combinações possíveis de parâmetros dados em `param_grid`.\n",
    "\n",
    "O atributo `best_params_` nos dará o melhor conjunto de parâmetros que maximizam a pontuação média nos conjuntos de testes internos."
   ]
  },
  {
   "cell_type": "code",
   "execution_count": 3,
   "metadata": {},
   "outputs": [
    {
     "name": "stdout",
     "output_type": "stream",
     "text": [
      "The best parameter found are: {'C': 0.1, 'gamma': 0.01}\n"
     ]
    }
   ],
   "source": [
    "print(f\"The best parameter found are: {search.best_params_}\")"
   ]
  },
  {
   "cell_type": "markdown",
   "metadata": {},
   "source": [
    "Podemos agora mostrar a pontuação média obtida usando o parâmetro `best_score_`."
   ]
  },
  {
   "cell_type": "code",
   "execution_count": 5,
   "metadata": {},
   "outputs": [
    {
     "name": "stdout",
     "output_type": "stream",
     "text": [
      "The mean score in CV is: 0.627\n"
     ]
    }
   ],
   "source": [
    "print(f\"The mean score in CV is: {search.best_score_:.3f}\")"
   ]
  },
  {
   "cell_type": "markdown",
   "metadata": {},
   "source": [
    "Nesta fase, deve-se ter muito cuidado ao usar essa partitura. A interpretação incorreta seria a seguinte: como a pontuação foi calculada em um conjunto de teste, ela poderia ser considerada a pontuação de teste do nosso modelo.\n",
    "\n",
    "No entanto, não devemos esquecer que usamos essa pontuação para escolher o melhor modelo. Isso significa que usamos o conhecimento do conjunto de testes (ou seja, pontuação do teste) para decidir o parâmetro de treinamento do nosso modelo.\n",
    "\n",
    "Portanto, essa pontuação não é uma estimativa razoável de nosso erro de teste. Na verdade, podemos mostrar que será muito otimista na prática. A boa maneira é usar uma validação cruzada \"aninhada\". Usaremos uma validação cruzada interna correspondente ao procedimento anterior mostrado para otimizar os hiperparâmetros. Também incluiremos esse procedimento em uma validação cruzada externa, que será usada para estimar o erro de teste de nosso modelo ajustado.\n",
    "\n",
    "Nesse caso, nossa validação cruzada interna sempre obterá o conjunto de treinamento da validação cruzada externa, tornando possível calcular a pontuação do teste em um conjunto completamente independente.\n",
    "\n",
    "Mostraremos a seguir como podemos criar essa validação cruzada aninhada e obter a pontuação do teste."
   ]
  },
  {
   "cell_type": "code",
   "execution_count": 6,
   "metadata": {},
   "outputs": [
    {
     "name": "stdout",
     "output_type": "stream",
     "text": [
      "The mean score using nested cross-validation is: 0.627 +/- 0.021\n"
     ]
    }
   ],
   "source": [
    "from sklearn.model_selection import cross_val_score, KFold\n",
    "\n",
    "# Declare the inner and outer cross-validation\n",
    "inner_cv = KFold(n_splits=4, shuffle=True, random_state=0)\n",
    "outer_cv = KFold(n_splits=4, shuffle=True, random_state=0)\n",
    "\n",
    "# Inner cross-validation for parameter search\n",
    "model = GridSearchCV(\n",
    "    estimator=model_to_tune, param_grid=param_grid, cv=inner_cv, n_jobs=2)\n",
    "\n",
    "# Outer cross-validation to compute the testing score\n",
    "test_score = cross_val_score(model, data, target, cv=outer_cv, n_jobs=2)\n",
    "print(f\"The mean score using nested cross-validation is: \"\n",
    "      f\"{test_score.mean():.3f} +/- {test_score.std():.3f}\")"
   ]
  },
  {
   "cell_type": "markdown",
   "metadata": {},
   "source": [
    "No exemplo acima, a pontuação relatada é mais confiável e deve estar próxima do desempenho de generalização esperado da produção.\n",
    "\n",
    "Ilustraremos a diferença entre as pontuações da validação cruzada aninhada e não aninhada para mostrar que a última será muito otimista na prática. A este respeito, iremos repetir várias vezes a experiência e embaralhar os dados de forma diferente. Além disso, iremos armazenar a pontuação obtida com e sem a validação cruzada aninhada."
   ]
  },
  {
   "cell_type": "code",
   "execution_count": 7,
   "metadata": {},
   "outputs": [],
   "source": [
    "test_score_not_nested = []\n",
    "test_score_nested = []\n",
    "\n",
    "N_TRIALS = 20\n",
    "for i in range(N_TRIALS):\n",
    "    inner_cv = KFold(n_splits=4, shuffle=True, random_state=i)\n",
    "    outer_cv = KFold(n_splits=4, shuffle=True, random_state=i)\n",
    "\n",
    "    # Non_nested parameter search and scoring\n",
    "    model = GridSearchCV(estimator=model_to_tune, param_grid=param_grid,\n",
    "                         cv=inner_cv, n_jobs=2)\n",
    "    model.fit(data, target)\n",
    "    test_score_not_nested.append(model.best_score_)\n",
    "\n",
    "    # Nested CV with parameter optimization\n",
    "    test_score = cross_val_score(model, data, target, cv=outer_cv, n_jobs=2)\n",
    "    test_score_nested.append(test_score.mean())"
   ]
  },
  {
   "cell_type": "markdown",
   "metadata": {},
   "source": [
    "Podemos mesclar os dados e fazer um  box plot das duas estratégias."
   ]
  },
  {
   "cell_type": "code",
   "execution_count": 8,
   "metadata": {},
   "outputs": [],
   "source": [
    "import pandas as pd\n",
    "\n",
    "all_scores = {\n",
    "    \"Not nested CV\": test_score_not_nested,\n",
    "    \"Nested CV\": test_score_nested,\n",
    "}\n",
    "all_scores = pd.DataFrame(all_scores)"
   ]
  },
  {
   "cell_type": "code",
   "execution_count": 9,
   "metadata": {},
   "outputs": [
    {
     "data": {
      "image/png": "[encoded data removed]",
      "text/plain": [
       "<Figure size 432x288 with 1 Axes>"
      ]
     },
     "metadata": {
      "needs_background": "light"
     },
     "output_type": "display_data"
    }
   ],
   "source": [
    "import matplotlib.pyplot as plt\n",
    "\n",
    "color = {\"whiskers\": \"black\", \"medians\": \"black\", \"caps\": \"black\"}\n",
    "all_scores.plot.box(color=color, vert=False)\n",
    "plt.xlabel(\"Accuracy\")\n",
    "_ = plt.title(\"Comparison of mean accuracy obtained on the test sets with\\n\"\n",
    "              \"and without nested cross-validation\")"
   ]
  },
  {
   "cell_type": "markdown",
   "metadata": {},
   "source": [
    "Observamos que o desempenho de generalização do modelo com a validação cruzada aninhada não é tão bom quanto a validação cruzada não aninhada.\n",
    "\n",
    "Como conclusão, ao otimizar partes do pipeline de aprendizado de máquina (por exemplo, hiperparâmetro, transformação, etc.), é necessário usar validação cruzada aninhada para avaliar o desempenho de generalização do modelo preditivo. Caso contrário, os resultados obtidos sem validação cruzada aninhada são otimistas demais."
   ]
  }
 ],
 "metadata": {
  "kernelspec": {
   "display_name": "Python 3",
   "language": "python",
   "name": "python3"
  },
  "language_info": {
   "codemirror_mode": {
    "name": "ipython",
    "version": 3
   },
   "file_extension": ".py",
   "mimetype": "text/x-python",
   "name": "python",
   "nbconvert_exporter": "python",
   "pygments_lexer": "ipython3",
   "version": "3.8.5"
  }
 },
 "nbformat": 4,
 "nbformat_minor": 4
}
