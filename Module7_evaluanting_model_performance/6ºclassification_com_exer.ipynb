{
 "cells": [
  {
   "cell_type": "markdown",
   "metadata": {},
   "source": [
    "# Classification\n",
    "\n",
    "Este bloco de notas tem como objetivo fornecer uma visão geral das métricas de classificação que podem ser usadas para avaliar o desempenho da generalização do modelo preditivo. Podemos lembrar que, em uma configuração de classificação, o vetor `target` é categórico em vez de contínuo.\n",
    "\n",
    "Carregaremos o conjunto de dados de transfusão de sangue."
   ]
  },
  {
   "cell_type": "code",
   "execution_count": 1,
   "metadata": {},
   "outputs": [
    {
     "data": {
      "text/plain": [
       "('C:/Users/Rogerio Lopes/Desktop/Rogerio/Machine_Learning_With_Scikit_Learn/Module7_evaluanting_model_performance/blood_transfusion.csv',\n",
       " <http.client.HTTPMessage at 0x1f822c27940>)"
      ]
     },
     "execution_count": 1,
     "metadata": {},
     "output_type": "execute_result"
    }
   ],
   "source": [
    "from urllib.request import urlretrieve \n",
    "# lembre de sempre pegar o arquivo do tipo RAW no github \n",
    "url = 'https://raw.githubusercontent.com/INRIA/scikit-learn-mooc/end-of-v1.0-session/datasets/blood_transfusion.csv'\n",
    "urlretrieve(url, 'C:/Users/Rogerio Lopes/Desktop/Rogerio/Machine_Learning_With_Scikit_Learn/Module7_evaluanting_model_performance/blood_transfusion.csv')"
   ]
  },
  {
   "cell_type": "code",
   "execution_count": 2,
   "metadata": {},
   "outputs": [],
   "source": [
    "import pandas as pd\n",
    "\n",
    "blood_transfusion = pd.read_csv(\"blood_transfusion.csv\")\n",
    "data = blood_transfusion.drop(columns=\"Class\")\n",
    "target = blood_transfusion[\"Class\"]"
   ]
  },
  {
   "cell_type": "markdown",
   "metadata": {},
   "source": [
    "Vamos começar verificando as classes presentes no vetor de destino `target`."
   ]
  },
  {
   "cell_type": "code",
   "execution_count": 3,
   "metadata": {},
   "outputs": [
    {
     "data": {
      "image/png": "[encoded data removed]",
      "text/plain": [
       "<Figure size 432x288 with 1 Axes>"
      ]
     },
     "metadata": {
      "needs_background": "light"
     },
     "output_type": "display_data"
    }
   ],
   "source": [
    "import matplotlib.pyplot as plt\n",
    "\n",
    "target.value_counts().plot.barh()\n",
    "plt.xlabel(\"Number of samples\")\n",
    "_ = plt.title(\"Number of samples per classes present\\n in the target\")"
   ]
  },
  {
   "cell_type": "markdown",
   "metadata": {},
   "source": [
    "Podemos ver que o vetor `target` contém duas classes correspondentes a se um sujeito doou sangue. Usaremos um classificador de regressão logística para prever esse resultado.\n",
    "\n",
    "Para focar na apresentação das métricas, usaremos apenas uma única divisão em vez de validação cruzada."
   ]
  },
  {
   "cell_type": "code",
   "execution_count": 4,
   "metadata": {},
   "outputs": [],
   "source": [
    "from sklearn.model_selection import train_test_split\n",
    "\n",
    "data_train, data_test, target_train, target_test = train_test_split(\n",
    "    data, target, shuffle=True, random_state=0, test_size=0.5)"
   ]
  },
  {
   "cell_type": "markdown",
   "metadata": {},
   "source": [
    "Usaremos um classificador de regressão logística como modelo base. Treinaremos o modelo no conjunto de treinamento e, posteriormente, usaremos o conjunto de teste para calcular as diferentes métricas de classificação."
   ]
  },
  {
   "cell_type": "code",
   "execution_count": 5,
   "metadata": {},
   "outputs": [
    {
     "data": {
      "text/plain": [
       "LogisticRegression()"
      ]
     },
     "execution_count": 5,
     "metadata": {},
     "output_type": "execute_result"
    }
   ],
   "source": [
    "from sklearn.linear_model import LogisticRegression\n",
    "\n",
    "classifier = LogisticRegression()\n",
    "classifier.fit(data_train, target_train)"
   ]
  },
  {
   "cell_type": "markdown",
   "metadata": {},
   "source": [
    "### Classifier predictions\n",
    "\n",
    "Antes de entrarmos em detalhes sobre as métricas, vamos lembrar que tipo de previsões um classificador pode fornecer.\n",
    "\n",
    "Por isso, vamos criar uma amostra sintética para um novo potencial doador: ele doou sangue duas vezes no passado (1000 cc cada vez). A última vez foi há 6 meses, e a primeira vez foi há 20 meses."
   ]
  },
  {
   "cell_type": "code",
   "execution_count": 6,
   "metadata": {},
   "outputs": [],
   "source": [
    "new_donor = [[6, 2, 1000, 20]]"
   ]
  },
  {
   "cell_type": "markdown",
   "metadata": {},
   "source": [
    "Podemos obter a classe prevista pelo classificador chamando o método `predict`."
   ]
  },
  {
   "cell_type": "code",
   "execution_count": 7,
   "metadata": {},
   "outputs": [
    {
     "data": {
      "text/plain": [
       "array(['not donated'], dtype=object)"
      ]
     },
     "execution_count": 7,
     "metadata": {},
     "output_type": "execute_result"
    }
   ],
   "source": [
    "classifier.predict(new_donor)"
   ]
  },
  {
   "cell_type": "markdown",
   "metadata": {},
   "source": [
    "Com essas informações, nosso classificador prevê que esse sujeito sintético tem maior probabilidade de não doar sangue novamente.\n",
    "\n",
    "No entanto, não podemos verificar se a previsão está correta (não sabemos o verdadeiro valor alvo). Esse é o propósito do conjunto de teste. Primeiro, predizemos se um sujeito doará sangue com a ajuda de um classificador treinado."
   ]
  },
  {
   "cell_type": "code",
   "execution_count": 8,
   "metadata": {},
   "outputs": [
    {
     "data": {
      "text/plain": [
       "array(['not donated', 'not donated', 'not donated', 'not donated',\n",
       "       'donated'], dtype=object)"
      ]
     },
     "execution_count": 8,
     "metadata": {},
     "output_type": "execute_result"
    }
   ],
   "source": [
    "target_predicted = classifier.predict(data_test)\n",
    "target_predicted[:5]"
   ]
  },
  {
   "cell_type": "markdown",
   "metadata": {},
   "source": [
    "### Accuracy as a baseline\n",
    "\n",
    "Agora que temos essas previsões, podemos compará-las com as previsões verdadeiras (às vezes chamadas de verdade fundamental) que não usamos até agora."
   ]
  },
  {
   "cell_type": "code",
   "execution_count": 9,
   "metadata": {},
   "outputs": [
    {
     "data": {
      "text/plain": [
       "258     True\n",
       "521    False\n",
       "14     False\n",
       "31     False\n",
       "505     True\n",
       "       ...  \n",
       "665     True\n",
       "100    False\n",
       "422     True\n",
       "615     True\n",
       "743     True\n",
       "Name: Class, Length: 374, dtype: bool"
      ]
     },
     "execution_count": 9,
     "metadata": {},
     "output_type": "execute_result"
    }
   ],
   "source": [
    "target_test == target_predicted"
   ]
  },
  {
   "cell_type": "markdown",
   "metadata": {},
   "source": [
    "Na comparação acima, um `True` valor significa que o valor predito por nosso classificador é idêntico ao valor real, enquanto um `False` significa que nosso classificador cometeu um erro. Uma maneira de obter uma taxa geral que representa o desempenho de generalização de nosso classificador seria calcular quantas vezes nosso classificador estava certo e dividi-lo pelo número de amostras em nosso conjunto."
   ]
  },
  {
   "cell_type": "code",
   "execution_count": 10,
   "metadata": {},
   "outputs": [
    {
     "data": {
      "text/plain": [
       "0.7780748663101604"
      ]
     },
     "execution_count": 10,
     "metadata": {},
     "output_type": "execute_result"
    }
   ],
   "source": [
    "import numpy as np\n",
    "\n",
    "np.mean(target_test == target_predicted)"
   ]
  },
  {
   "cell_type": "markdown",
   "metadata": {},
   "source": [
    "Essa medida é chamada de precisão. Aqui, nosso classificador é 78% preciso em classificar se um sujeito vai doar sangue. `scikit-learn` fornece uma função que calcula essa métrica no módulo `sklearn.metrics`."
   ]
  },
  {
   "cell_type": "code",
   "execution_count": 11,
   "metadata": {},
   "outputs": [
    {
     "name": "stdout",
     "output_type": "stream",
     "text": [
      "Accuracy: 0.778\n"
     ]
    }
   ],
   "source": [
    "from sklearn.metrics import accuracy_score\n",
    "\n",
    "accuracy = accuracy_score(target_test, target_predicted)\n",
    "print(f\"Accuracy: {accuracy:.3f}\")"
   ]
  },
  {
   "cell_type": "markdown",
   "metadata": {},
   "source": [
    "`LogisticRegression` também tem um método denominado score(parte da API `scikit-learn` padrão), que calcula a pontuação de precisão."
   ]
  },
  {
   "cell_type": "code",
   "execution_count": 12,
   "metadata": {},
   "outputs": [
    {
     "data": {
      "text/plain": [
       "0.7780748663101604"
      ]
     },
     "execution_count": 12,
     "metadata": {},
     "output_type": "execute_result"
    }
   ],
   "source": [
    "classifier.score(data_test, target_test)"
   ]
  },
  {
   "cell_type": "markdown",
   "metadata": {},
   "source": [
    "### Confusion matrix and derived metrics \n",
    "\n",
    "A comparação que fizemos acima e a precisão que calculamos não levou em consideração o tipo de erro que nosso classificador estava cometendo. A precisão é um agregado dos erros cometidos pelo classificador. Podemos estar interessados ​​em granularidade mais fina - para saber independentemente qual é o erro para cada um dos dois casos a seguir:\n",
    "\n",
    "* previmos que uma pessoa doaria sangue, mas ela não deu;\n",
    "* previmos que uma pessoa não doaria sangue, mas ela deu."
   ]
  },
  {
   "cell_type": "code",
   "execution_count": 13,
   "metadata": {},
   "outputs": [
    {
     "data": {
      "image/png": "[encoded data removed]",
      "text/plain": [
       "<Figure size 432x288 with 2 Axes>"
      ]
     },
     "metadata": {
      "needs_background": "light"
     },
     "output_type": "display_data"
    }
   ],
   "source": [
    "from sklearn.metrics import plot_confusion_matrix\n",
    "\n",
    "_ = plot_confusion_matrix(classifier, data_test, target_test)"
   ]
  },
  {
   "cell_type": "markdown",
   "metadata": {},
   "source": [
    "Os números na diagonal estão relacionados a previsões que estavam corretas, enquanto os números fora da diagonal estão relacionados a previsões incorretas (classificações incorretas). Agora conhecemos os quatro tipos de previsões corretas e erradas:\n",
    "\n",
    "* o canto superior esquerdo são verdadeiros positivos (TP) e correspondem às pessoas que doaram sangue e foram preditas como tal pelo classificador;\n",
    "* o canto inferior direito são verdadeiros negativos (TN) e correspondem a pessoas que não doaram sangue e foram preditas como tal pelo classificador;\n",
    "* o canto superior direito são falsos negativos (FN) e correspondem a pessoas que doaram sangue, mas foi previsto que não doaram;\n",
    "* o canto inferior esquerdo são falsos positivos (PF) e correspondem a pessoas que não deram sangue, mas que se previa que tivessem dado sangue.\n",
    "\n",
    "Depois de dividir essas informações, podemos calcular métricas para destacar o desempenho de generalização de nosso classificador em uma configuração particular. Por exemplo, podemos estar interessados ​​na fração de pessoas que realmente doou sangue quando o classificador previu ou na fração de pessoas que previu que doou sangue entre o total da população que realmente o fez.\n",
    "\n",
    "A primeira métrica, conhecida como precisão, é definida como TP / (TP + FP) e representa a probabilidade de a pessoa realmente ter dado sangue quando o classificador previu que sim. Este último, conhecido como recall, é definido como TP / (TP + FN) e avalia o quão bem o classificador é capaz de identificar corretamente as pessoas que doaram sangue. Poderíamos, da mesma forma que a precisão, calcular manualmente esses valores; no entanto, o scikit-learn fornece funções para calcular essas estatísticas."
   ]
  },
  {
   "cell_type": "code",
   "execution_count": 14,
   "metadata": {},
   "outputs": [
    {
     "name": "stdout",
     "output_type": "stream",
     "text": [
      "Precision score: 0.688\n",
      "Recall score: 0.124\n"
     ]
    }
   ],
   "source": [
    "from sklearn.metrics import precision_score, recall_score\n",
    "\n",
    "precision = precision_score(target_test, target_predicted, pos_label=\"donated\")\n",
    "recall = recall_score(target_test, target_predicted, pos_label=\"donated\")\n",
    "\n",
    "print(f\"Precision score: {precision:.3f}\")\n",
    "print(f\"Recall score: {recall:.3f}\")"
   ]
  },
  {
   "cell_type": "markdown",
   "metadata": {},
   "source": [
    "Esses resultados estão de acordo com o que foi visto na matriz de confusão. Olhando para a coluna da esquerda, mais da metade das previsões \"doadas\" estavam corretas, levando a uma precisão acima de 0,5. No entanto, nosso classificador classificou erroneamente muitas pessoas que doaram sangue como \"não doado\", levando a um recall muito baixo de cerca de 0,1."
   ]
  },
  {
   "cell_type": "markdown",
   "metadata": {},
   "source": [
    "### A questão do desequilíbrio de classe\n",
    "\n",
    "Nesse estágio, poderíamos nos fazer uma pergunta razoável. Embora a precisão não pareça ruim (ou seja, 77%), a pontuação de recall é relativamente baixa (ou seja, 12%).\n",
    "\n",
    "Como mencionamos, a precisão e a recuperação se concentram apenas nas amostras que se prevê serem positivas, enquanto a precisão leva ambos em consideração. Além disso, não examinamos a proporção das classes (rótulos). Podemos verificar essa proporção no conjunto de treinamento."
   ]
  },
  {
   "cell_type": "code",
   "execution_count": 15,
   "metadata": {},
   "outputs": [
    {
     "data": {
      "image/png": "[encoded data removed]",
      "text/plain": [
       "<Figure size 432x288 with 1 Axes>"
      ]
     },
     "metadata": {
      "needs_background": "light"
     },
     "output_type": "display_data"
    }
   ],
   "source": [
    "target_train.value_counts(normalize=True).plot.barh()\n",
    "plt.xlabel(\"Class frequency\")\n",
    "_ = plt.title(\"Class frequency in the training set\")"
   ]
  },
  {
   "cell_type": "markdown",
   "metadata": {},
   "source": [
    "Observamos que a classe positiva, `'donated'` compreende apenas 24% das amostras. A boa precisão do nosso classificador está então ligada à sua capacidade de prever corretamente a classe negativa `'not donated'` que pode ou não ser relevante, dependendo da aplicação. Podemos ilustrar o problema usando um classificador fictício como linha de base."
   ]
  },
  {
   "cell_type": "code",
   "execution_count": 16,
   "metadata": {},
   "outputs": [
    {
     "name": "stdout",
     "output_type": "stream",
     "text": [
      "Accuracy of the dummy classifier: 0.762\n"
     ]
    }
   ],
   "source": [
    "from sklearn.dummy import DummyClassifier\n",
    "\n",
    "dummy_classifier = DummyClassifier(strategy=\"most_frequent\")\n",
    "dummy_classifier.fit(data_train, target_train)\n",
    "print(f\"Accuracy of the dummy classifier: \"\n",
    "      f\"{dummy_classifier.score(data_test, target_test):.3f}\")"
   ]
  },
  {
   "cell_type": "markdown",
   "metadata": {},
   "source": [
    "Com o classificador dummy, que sempre prevê a classe negativa `'notdonated'`, obtemos um escore de acerto de 76%. Portanto, significa que este classificador, sem aprender nada com os dados `data`, é capaz de prever com tanta precisão quanto nosso modelo de regressão logística.\n",
    "\n",
    "O problema ilustrado acima também é conhecido como problema de desequilíbrio de classes. Quando as classes são desequilibradas, a precisão não deve ser usada. Nesse caso, deve-se usar a precisão e a recuperação conforme apresentado acima ou a pontuação de precisão balanceada em vez da precisão."
   ]
  },
  {
   "cell_type": "code",
   "execution_count": 17,
   "metadata": {},
   "outputs": [
    {
     "name": "stdout",
     "output_type": "stream",
     "text": [
      "Balanced accuracy: 0.553\n"
     ]
    }
   ],
   "source": [
    "from sklearn.metrics import balanced_accuracy_score\n",
    "\n",
    "balanced_accuracy = balanced_accuracy_score(target_test, target_predicted)\n",
    "print(f\"Balanced accuracy: {balanced_accuracy:.3f}\")"
   ]
  },
  {
   "cell_type": "markdown",
   "metadata": {},
   "source": [
    "A precisão balanceada é equivalente à precisão no contexto de classes balanceadas. É definido como a recordação média obtida em cada aula."
   ]
  },
  {
   "cell_type": "markdown",
   "metadata": {},
   "source": [
    "### Avaliação e diferentes limites de probabilidade\n",
    "\n",
    "Todas as estatísticas que apresentamos até agora dependem de `classifier.predict` quais saídas são o rótulo mais provável. Não utilizamos a probabilidade associada a esta previsão, o que dá a confiança do classificador nesta previsão. Por padrão, a previsão de um classificador corresponde a um limite de 0,5 probabilidade em um problema de classificação binária. Podemos verificar rapidamente essa relação com o classificador que treinamos."
   ]
  },
  {
   "cell_type": "code",
   "execution_count": 18,
   "metadata": {},
   "outputs": [
    {
     "data": {
      "text/html": [
       "<div>\n",
       "<style scoped>\n",
       "    .dataframe tbody tr th:only-of-type {\n",
       "        vertical-align: middle;\n",
       "    }\n",
       "\n",
       "    .dataframe tbody tr th {\n",
       "        vertical-align: top;\n",
       "    }\n",
       "\n",
       "    .dataframe thead th {\n",
       "        text-align: right;\n",
       "    }\n",
       "</style>\n",
       "<table border=\"1\" class=\"dataframe\">\n",
       "  <thead>\n",
       "    <tr style=\"text-align: right;\">\n",
       "      <th></th>\n",
       "      <th>donated</th>\n",
       "      <th>not donated</th>\n",
       "    </tr>\n",
       "  </thead>\n",
       "  <tbody>\n",
       "    <tr>\n",
       "      <th>0</th>\n",
       "      <td>0.271820</td>\n",
       "      <td>0.728180</td>\n",
       "    </tr>\n",
       "    <tr>\n",
       "      <th>1</th>\n",
       "      <td>0.451764</td>\n",
       "      <td>0.548236</td>\n",
       "    </tr>\n",
       "    <tr>\n",
       "      <th>2</th>\n",
       "      <td>0.445211</td>\n",
       "      <td>0.554789</td>\n",
       "    </tr>\n",
       "    <tr>\n",
       "      <th>3</th>\n",
       "      <td>0.441577</td>\n",
       "      <td>0.558423</td>\n",
       "    </tr>\n",
       "    <tr>\n",
       "      <th>4</th>\n",
       "      <td>0.870583</td>\n",
       "      <td>0.129417</td>\n",
       "    </tr>\n",
       "  </tbody>\n",
       "</table>\n",
       "</div>"
      ],
      "text/plain": [
       "    donated  not donated\n",
       "0  0.271820     0.728180\n",
       "1  0.451764     0.548236\n",
       "2  0.445211     0.554789\n",
       "3  0.441577     0.558423\n",
       "4  0.870583     0.129417"
      ]
     },
     "execution_count": 18,
     "metadata": {},
     "output_type": "execute_result"
    }
   ],
   "source": [
    "target_proba_predicted = pd.DataFrame(classifier.predict_proba(data_test),\n",
    "                                      columns=classifier.classes_)\n",
    "target_proba_predicted[:5]"
   ]
  },
  {
   "cell_type": "code",
   "execution_count": 19,
   "metadata": {},
   "outputs": [
    {
     "data": {
      "text/plain": [
       "array(['not donated', 'not donated', 'not donated', 'not donated',\n",
       "       'donated'], dtype=object)"
      ]
     },
     "execution_count": 19,
     "metadata": {},
     "output_type": "execute_result"
    }
   ],
   "source": [
    "target_predicted = classifier.predict(data_test)\n",
    "target_predicted[:5]"
   ]
  },
  {
   "cell_type": "markdown",
   "metadata": {},
   "source": [
    "Como as probabilidades somam 1, podemos obter a classe com a maior probabilidade sem usar o limite 0,5."
   ]
  },
  {
   "cell_type": "code",
   "execution_count": 20,
   "metadata": {},
   "outputs": [
    {
     "data": {
      "text/plain": [
       "True"
      ]
     },
     "execution_count": 20,
     "metadata": {},
     "output_type": "execute_result"
    }
   ],
   "source": [
    "equivalence_pred_proba = (\n",
    "    target_proba_predicted.idxmax(axis=1).to_numpy() == target_predicted)\n",
    "np.all(equivalence_pred_proba)"
   ]
  },
  {
   "cell_type": "markdown",
   "metadata": {},
   "source": [
    "O limite de decisão padrão (0,5) pode não ser o melhor limite que leva ao desempenho de generalização ideal de nosso classificador. Nesse caso, pode-se variar o limite de decisão e, portanto, a previsão subjacente, e calcular as mesmas estatísticas apresentadas anteriormente. Normalmente, a recuperação e a precisão das duas métricas são calculadas e plotadas em um gráfico. Cada métrica traçada em um eixo de gráfico e cada ponto no gráfico corresponde a um limite de decisão específico. Vamos começar calculando a curva de recuperação de precisão."
   ]
  },
  {
   "cell_type": "code",
   "execution_count": 26,
   "metadata": {},
   "outputs": [
    {
     "data": {
      "image/png": "[encoded data removed]",
      "text/plain": [
       "<Figure size 432x288 with 1 Axes>"
      ]
     },
     "metadata": {
      "needs_background": "light"
     },
     "output_type": "display_data"
    }
   ],
   "source": [
    "# donated\n",
    "from sklearn.metrics import plot_precision_recall_curve\n",
    "\n",
    "disp = plot_precision_recall_curve(\n",
    "    classifier, data_test, target_test, \n",
    "    marker=\"+\"\n",
    ")\n",
    "_ = disp.ax_.set_title(\"Precision-recall curve\")"
   ]
  },
  {
   "cell_type": "markdown",
   "metadata": {},
   "source": [
    "Nesta curva, cada cruz azul corresponde a um nível de probabilidade que usamos como limite de decisão. Podemos ver que, variando este limite de decisão, obtemos diferentes valores de precisão vs. recall.\n",
    "\n",
    "Um classificador perfeito teria uma precisão de 1 para todos os valores de rechamada. Uma métrica que caracteriza a curva está ligada à área sob a curva (AUC) e é chamada de precisão média (AP). Com um classificador ideal, a precisão média seria 1.\n",
    "\n",
    "A métrica de precisão e recall concentra-se na classe positiva, no entanto, pode-se estar interessado no meio-termo entre discriminar com precisão a classe positiva e discriminar com precisão as classes negativas. As estatísticas usadas para isso são sensibilidade e especificidade. Sensibilidade é apenas outro nome para recordar. No entanto, a especificidade mede a proporção de amostras classificadas corretamente na classe negativa definida como: TN / (TN + FP). Semelhante à curva de recuperação de precisão, a sensibilidade e a especificidade são geralmente plotadas como uma curva chamada curva de característica de operação do receptor (ROC). Abaixo está essa curva:"
   ]
  },
  {
   "cell_type": "code",
   "execution_count": 28,
   "metadata": {},
   "outputs": [
    {
     "data": {
      "image/png": "[encoded data removed]",
      "text/plain": [
       "<Figure size 432x288 with 1 Axes>"
      ]
     },
     "metadata": {
      "needs_background": "light"
     },
     "output_type": "display_data"
    }
   ],
   "source": [
    "# donated\n",
    "from sklearn.metrics import plot_roc_curve\n",
    "\n",
    "disp = plot_roc_curve(\n",
    "    classifier, data_test, target_test,\n",
    "    marker=\"+\")\n",
    "disp = plot_roc_curve(\n",
    "    dummy_classifier, data_test, target_test,\n",
    "    color=\"tab:orange\", linestyle=\"--\", ax=disp.ax_)\n",
    "_ = disp.ax_.set_title(\"ROC AUC curve\")"
   ]
  },
  {
   "cell_type": "markdown",
   "metadata": {},
   "source": [
    "Essa curva foi construída usando o mesmo princípio da curva de recuperação de precisão: variamos o limite de probabilidade para determinar a previsão \"difícil\" e computar as métricas. Tal como acontece com a curva de recuperação de precisão, podemos calcular a área sob o ROC (ROC-AUC) para caracterizar o desempenho de generalização de nosso classificador. No entanto, é importante observar que o limite inferior do ROC-AUC é 0,5. Na verdade, mostramos o desempenho de generalização de um classificador dummy (a linha tracejada laranja) para mostrar que mesmo o pior desempenho de generalização obtido estará acima desta linha."
   ]
  },
  {
   "cell_type": "markdown",
   "metadata": {},
   "source": [
    "# 📝 Exercício M7.02\n",
    "Apresentamos diferentes métricas de classificação no caderno anterior. No entanto, não o usamos com uma validação cruzada. Este exercício visa praticar e implementar a validação cruzada.\n",
    "\n",
    "Vamos reutilizar o conjunto de dados de transfusão de sangue."
   ]
  },
  {
   "cell_type": "code",
   "execution_count": 1,
   "metadata": {},
   "outputs": [],
   "source": [
    "import pandas as pd\n",
    "\n",
    "blood_transfusion = pd.read_csv(\"blood_transfusion.csv\")\n",
    "data = blood_transfusion.drop(columns=\"Class\")\n",
    "target = blood_transfusion[\"Class\"]"
   ]
  },
  {
   "cell_type": "markdown",
   "metadata": {},
   "source": [
    "Primeiro, crie um classificador de árvore de decisão."
   ]
  },
  {
   "cell_type": "code",
   "execution_count": 3,
   "metadata": {},
   "outputs": [],
   "source": [
    "from sklearn.tree import DecisionTreeClassifier\n",
    "\n",
    "tree = DecisionTreeClassifier()"
   ]
  },
  {
   "cell_type": "markdown",
   "metadata": {},
   "source": [
    "Crie um `StratifiedKFold` objeto de validação cruzada. Em seguida, use-o dentro da `cross_val_score` função para avaliar a árvore de decisão. Primeiro, usaremos a precisão como uma função de pontuação. Use explicitamente o `scoring` parâmetro de `cross_val_score` para calcular a precisão (mesmo que seja a pontuação padrão). Verifique sua documentação para saber como fazer isso."
   ]
  },
  {
   "cell_type": "code",
   "execution_count": 4,
   "metadata": {},
   "outputs": [
    {
     "name": "stdout",
     "output_type": "stream",
     "text": [
      "Accuracy score: 0.635 +/- 0.139\n"
     ]
    }
   ],
   "source": [
    "from sklearn.model_selection import cross_val_score, StratifiedKFold\n",
    "\n",
    "cv = StratifiedKFold(n_splits=10)\n",
    "scores = cross_val_score(tree, data, target, cv=cv, scoring=\"accuracy\")\n",
    "print(f\"Accuracy score: {scores.mean():.3f} +/- {scores.std():.3f}\")"
   ]
  },
  {
   "cell_type": "markdown",
   "metadata": {},
   "source": [
    "Repita o experimento calculando o `balanced_accuracy`."
   ]
  },
  {
   "cell_type": "code",
   "execution_count": 5,
   "metadata": {},
   "outputs": [
    {
     "name": "stdout",
     "output_type": "stream",
     "text": [
      "Balanced accuracy score: 0.506 +/- 0.106\n"
     ]
    }
   ],
   "source": [
    "scores = cross_val_score(tree, data, target, cv=cv,\n",
    "                         scoring=\"balanced_accuracy\")\n",
    "print(f\"Balanced accuracy score: {scores.mean():.3f} +/- {scores.std():.3f}\")"
   ]
  },
  {
   "cell_type": "markdown",
   "metadata": {},
   "source": [
    "Agora vamos adicionar um pouco de complexidade. Gostaríamos de calcular a precisão do nosso modelo. No entanto, ao longo do curso vimos que é necessário mencionar o rótulo positivo que, no nosso caso, consideramos ser a classe `donated`.\n",
    "\n",
    "Mostraremos que calcular a precisão sem fornecer o rótulo positivo não será compatível com o scikit-learn porque é realmente ambíguo."
   ]
  },
  {
   "cell_type": "code",
   "execution_count": 6,
   "metadata": {},
   "outputs": [
    {
     "name": "stdout",
     "output_type": "stream",
     "text": [
      "pos_label=1 is not a valid label: array(['donated', 'not donated'], dtype='<U11')\n"
     ]
    },
    {
     "name": "stderr",
     "output_type": "stream",
     "text": [
      "C:\\Users\\Rogerio Lopes\\anaconda3\\lib\\site-packages\\sklearn\\metrics\\_classification.py:1254: FutureWarning: elementwise comparison failed; returning scalar instead, but in the future will perform elementwise comparison\n",
      "  if pos_label not in present_labels:\n"
     ]
    }
   ],
   "source": [
    "from sklearn.model_selection import cross_val_score\n",
    "from sklearn.tree import DecisionTreeClassifier\n",
    "\n",
    "tree = DecisionTreeClassifier()\n",
    "try:\n",
    "    scores = cross_val_score(tree, data, target, cv=10, scoring=\"precision\")\n",
    "except ValueError as exc:\n",
    "    print(exc)"
   ]
  },
  {
   "cell_type": "markdown",
   "metadata": {},
   "source": [
    "Capturamos a exceção com um padrão try / except para poder imprimi-la.\n",
    "\n",
    "Recebemos uma exceção porque o marcador padrão tem seu rótulo positivo definido como um (`pos_label=1`), o que não é o nosso caso (nosso rótulo positivo é \"doado\"). Nesse caso, precisamos criar um marcador usando a função de pontuação e a função auxiliar `make_scorer`.\n",
    "\n",
    "Então, importe `sklearn.metrics.make_scorer` e `sklearn.metrics.precision_score`. Verifique suas documentações para obter mais informações. Finalmente, crie um marcador chamando `make_scorer` usando a função score `precision_scoree` passe o parâmetro extra `pos_label=\"donated\"`."
   ]
  },
  {
   "cell_type": "code",
   "execution_count": 7,
   "metadata": {},
   "outputs": [],
   "source": [
    "from sklearn.metrics import make_scorer, precision_score\n",
    "\n",
    "precision = make_scorer(precision_score, pos_label=\"donated\")"
   ]
  },
  {
   "cell_type": "markdown",
   "metadata": {},
   "source": [
    "Agora, em vez de fornecer a string `\"precision\"` para o `scoring` parâmetro na `cross_val_score` chamada, passe o marcador que você criou acima."
   ]
  },
  {
   "cell_type": "code",
   "execution_count": 8,
   "metadata": {},
   "outputs": [
    {
     "name": "stdout",
     "output_type": "stream",
     "text": [
      "Precision score: 0.245 +/- 0.167\n"
     ]
    }
   ],
   "source": [
    "scores = cross_val_score(tree, data, target, cv=cv, scoring=precision)\n",
    "print(f\"Precision score: {scores.mean():.3f} +/- {scores.std():.3f}\")"
   ]
  },
  {
   "cell_type": "markdown",
   "metadata": {},
   "source": [
    "`cross_val_score` irá computar apenas uma única pontuação fornecida ao `scoring` parâmetro. A função `cross_validate` permite o cálculo de múltiplas pontuações, passando uma lista de string ou marcador para o parâmetro `scoring`, o que pode ser útil.\n",
    "\n",
    "Importe `sklearn.model_selection.cross_validate` e calcule a precisão e precisão equilibrada por meio de validação cruzada. Plote a pontuação de validação cruzada para ambas as métricas usando um gráfico de caixa."
   ]
  },
  {
   "cell_type": "code",
   "execution_count": 9,
   "metadata": {},
   "outputs": [
    {
     "data": {
      "text/plain": [
       "{'fit_time': array([0.00394177, 0.00347281, 0.00398874, 0.00487208, 0.00299168,\n",
       "        0.00199461, 0.00199437, 0.0036571 , 0.00300145, 0.00295639]),\n",
       " 'score_time': array([0.00249672, 0.00207639, 0.00398874, 0.0039885 , 0.00225854,\n",
       "        0.00199533, 0.0023427 , 0.00199461, 0.00199652, 0.00199485]),\n",
       " 'test_accuracy': array([0.26666667, 0.50666667, 0.78666667, 0.54666667, 0.58666667,\n",
       "        0.64      , 0.69333333, 0.77333333, 0.64864865, 0.74324324]),\n",
       " 'test_balanced_accuracy': array([0.38450292, 0.46637427, 0.66959064, 0.37865497, 0.40497076,\n",
       "        0.42105263, 0.55116959, 0.73684211, 0.4623323 , 0.50309598])}"
      ]
     },
     "execution_count": 9,
     "metadata": {},
     "output_type": "execute_result"
    }
   ],
   "source": [
    "from sklearn.model_selection import cross_validate\n",
    "scoring = [\"accuracy\", \"balanced_accuracy\"]\n",
    "\n",
    "scores = cross_validate(tree, data, target, cv=cv, scoring=scoring)\n",
    "scores"
   ]
  },
  {
   "cell_type": "code",
   "execution_count": 10,
   "metadata": {},
   "outputs": [],
   "source": [
    "import pandas as pd\n",
    "\n",
    "color = {\"whiskers\": \"black\", \"medians\": \"black\", \"caps\": \"black\"}\n",
    "\n",
    "metrics = pd.DataFrame(\n",
    "    [scores[\"test_accuracy\"], scores[\"test_balanced_accuracy\"]],\n",
    "    index=[\"Accuracy\", \"Balanced accuracy\"]\n",
    ").T"
   ]
  },
  {
   "cell_type": "code",
   "execution_count": 11,
   "metadata": {},
   "outputs": [
    {
     "data": {
      "image/png": "[encoded data removed]",
      "text/plain": [
       "<Figure size 432x288 with 1 Axes>"
      ]
     },
     "metadata": {
      "needs_background": "light"
     },
     "output_type": "display_data"
    }
   ],
   "source": [
    "import matplotlib.pyplot as plt\n",
    "\n",
    "metrics.plot.box(vert=False, color=color)\n",
    "_ = plt.title(\"Computation of multiple scores using cross_validate\")"
   ]
  }
 ],
 "metadata": {
  "kernelspec": {
   "display_name": "Python 3",
   "language": "python",
   "name": "python3"
  },
  "language_info": {
   "codemirror_mode": {
    "name": "ipython",
    "version": 3
   },
   "file_extension": ".py",
   "mimetype": "text/x-python",
   "name": "python",
   "nbconvert_exporter": "python",
   "pygments_lexer": "ipython3",
   "version": "3.8.5"
  }
 },
 "nbformat": 4,
 "nbformat_minor": 4
}
