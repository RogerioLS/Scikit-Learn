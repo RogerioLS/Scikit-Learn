{
 "cells": [
  {
   "cell_type": "markdown",
   "metadata": {},
   "source": [
    "# Comparing results with baseline and chance level\n",
    "\n",
    "Neste notebook, apresentamos como comparar o desempenho de generalização de um modelo a uma linha de base mínima.\n",
    "\n",
    "De fato, no portátil anterior, comparamos o erro de teste levando em consideração a distribuição alvo. Uma boa prática é comparar o erro de teste com uma linha de base fictícia e o nível de chance. Na regressão, poderíamos usar `DummyRegressore` prever a meta média sem usar os dados. O nível de chance pode ser determinado permutando os rótulos e verificando a diferença do resultado.\n",
    "\n",
    "Portanto, conduziremos um experimento para obter a pontuação de um modelo e as duas linhas de base. Começaremos carregando o conjunto de dados de habitação da Califórnia."
   ]
  },
  {
   "cell_type": "markdown",
   "metadata": {},
   "source": [
    "<div class=\"admonition note alert alert-info\">\n",
    "<p class=\"first admonition-title\" style=\"font-weight: bold;\">Note</p>\n",
    "<p class=\"last\"> Se você quiser uma visão geral mais detalhada sobre este conjunto de dados, pode consultar o\n",
    "Apêndice - seção de descrição dos conjuntos de dados no final deste MOOC. </p>\n",
    "</div>"
   ]
  },
  {
   "cell_type": "code",
   "execution_count": 1,
   "metadata": {},
   "outputs": [],
   "source": [
    "from sklearn.datasets import fetch_california_housing\n",
    "\n",
    "data, target = fetch_california_housing(return_X_y=True, as_frame=True)\n",
    "target *= 100  # rescale the target in k$"
   ]
  },
  {
   "cell_type": "markdown",
   "metadata": {},
   "source": [
    "Em todas as avaliações, usaremos uma `ShuffleSplit` validação cruzada."
   ]
  },
  {
   "cell_type": "code",
   "execution_count": 2,
   "metadata": {},
   "outputs": [],
   "source": [
    "from sklearn.model_selection import ShuffleSplit\n",
    "\n",
    "cv = ShuffleSplit(n_splits=30, test_size=0.2, random_state=0)"
   ]
  },
  {
   "cell_type": "markdown",
   "metadata": {},
   "source": [
    "Começaremos executando a validação cruzada para o regressor da árvore de decisão, que é o nosso modelo de interesse. Além disso, armazenaremos o erro de teste em uma série de pandas."
   ]
  },
  {
   "cell_type": "code",
   "execution_count": 4,
   "metadata": {},
   "outputs": [
    {
     "data": {
      "text/plain": [
       "count    30.000000\n",
       "mean     45.683117\n",
       "std       1.220644\n",
       "min      42.813338\n",
       "25%      44.922931\n",
       "50%      45.875259\n",
       "75%      46.631296\n",
       "max      48.255857\n",
       "Name: Regressor error, dtype: float64"
      ]
     },
     "execution_count": 4,
     "metadata": {},
     "output_type": "execute_result"
    }
   ],
   "source": [
    "import pandas as pd\n",
    "from sklearn.tree import DecisionTreeRegressor\n",
    "from sklearn.model_selection import cross_validate\n",
    "\n",
    "regressor = DecisionTreeRegressor()\n",
    "result_regressor = cross_validate(regressor, data, target,\n",
    "                                  cv=cv, scoring=\"neg_mean_absolute_error\",\n",
    "                                  n_jobs=2)\n",
    "\n",
    "errors_regressor = pd.Series(-result_regressor[\"test_score\"],\n",
    "                             name=\"Regressor error\")\n",
    "errors_regressor.describe()"
   ]
  },
  {
   "cell_type": "markdown",
   "metadata": {},
   "source": [
    "Em seguida, avaliaremos nossa primeira linha de base. Essa linha de base é chamada de regressor fictício. Este regressor fictício sempre prevê a meta média calculada no treinamento. Portanto, o regressor fictício nunca usará nenhuma informação sobre os dados `data`."
   ]
  },
  {
   "cell_type": "code",
   "execution_count": 5,
   "metadata": {},
   "outputs": [
    {
     "data": {
      "text/plain": [
       "count    30.000000\n",
       "mean     91.140009\n",
       "std       0.821140\n",
       "min      89.757566\n",
       "25%      90.543652\n",
       "50%      91.034555\n",
       "75%      91.979007\n",
       "max      92.477244\n",
       "Name: Dummy error, dtype: float64"
      ]
     },
     "execution_count": 5,
     "metadata": {},
     "output_type": "execute_result"
    }
   ],
   "source": [
    "from sklearn.dummy import DummyRegressor\n",
    "\n",
    "dummy = DummyRegressor()\n",
    "result_dummy = cross_validate(dummy, data, target,\n",
    "                              cv=cv, scoring=\"neg_mean_absolute_error\",\n",
    "                              n_jobs=2)\n",
    "errors_dummy = pd.Series(-result_dummy[\"test_score\"], name=\"Dummy error\")\n",
    "errors_dummy.describe()"
   ]
  },
  {
   "cell_type": "markdown",
   "metadata": {},
   "source": [
    "Finalmente, avaliaremos o desempenho de generalização da segunda linha de base. Esta linha de base fornecerá o desempenho de generalização do nível de chance. Na verdade, treinaremos uma árvore de decisão em alguns dados de treinamento e avaliaremos a mesma árvore em dados onde o vetor alvo foi randomizado."
   ]
  },
  {
   "cell_type": "code",
   "execution_count": 6,
   "metadata": {},
   "outputs": [
    {
     "data": {
      "text/plain": [
       "count     30.000000\n",
       "mean     129.260373\n",
       "std        0.293633\n",
       "min      128.761138\n",
       "25%      129.049368\n",
       "50%      129.196263\n",
       "75%      129.509477\n",
       "max      129.977584\n",
       "Name: Permuted error, dtype: float64"
      ]
     },
     "execution_count": 6,
     "metadata": {},
     "output_type": "execute_result"
    }
   ],
   "source": [
    "from sklearn.model_selection import permutation_test_score\n",
    "\n",
    "regressor = DecisionTreeRegressor()\n",
    "score, permutation_score, pvalue = permutation_test_score(\n",
    "    regressor, data, target, cv=cv, scoring=\"neg_mean_absolute_error\",\n",
    "    n_jobs=2, n_permutations=30)\n",
    "errors_permutation = pd.Series(-permutation_score, name=\"Permuted error\")\n",
    "errors_permutation.describe()"
   ]
  },
  {
   "cell_type": "markdown",
   "metadata": {},
   "source": [
    "Finalmente, plotamos os erros de teste para as duas linhas de base e o regressor real."
   ]
  },
  {
   "cell_type": "code",
   "execution_count": 7,
   "metadata": {},
   "outputs": [
    {
     "data": {
      "text/html": [
       "<div>\n",
       "<style scoped>\n",
       "    .dataframe tbody tr th:only-of-type {\n",
       "        vertical-align: middle;\n",
       "    }\n",
       "\n",
       "    .dataframe tbody tr th {\n",
       "        vertical-align: top;\n",
       "    }\n",
       "\n",
       "    .dataframe thead th {\n",
       "        text-align: right;\n",
       "    }\n",
       "</style>\n",
       "<table border=\"1\" class=\"dataframe\">\n",
       "  <thead>\n",
       "    <tr style=\"text-align: right;\">\n",
       "      <th></th>\n",
       "      <th>Regressor error</th>\n",
       "      <th>Dummy error</th>\n",
       "      <th>Permuted error</th>\n",
       "    </tr>\n",
       "  </thead>\n",
       "  <tbody>\n",
       "    <tr>\n",
       "      <th>0</th>\n",
       "      <td>46.358811</td>\n",
       "      <td>90.713153</td>\n",
       "      <td>129.062256</td>\n",
       "    </tr>\n",
       "    <tr>\n",
       "      <th>1</th>\n",
       "      <td>46.700845</td>\n",
       "      <td>90.539353</td>\n",
       "      <td>129.561194</td>\n",
       "    </tr>\n",
       "    <tr>\n",
       "      <th>2</th>\n",
       "      <td>44.563802</td>\n",
       "      <td>91.941912</td>\n",
       "      <td>128.929266</td>\n",
       "    </tr>\n",
       "    <tr>\n",
       "      <th>3</th>\n",
       "      <td>43.708230</td>\n",
       "      <td>90.213912</td>\n",
       "      <td>129.088553</td>\n",
       "    </tr>\n",
       "    <tr>\n",
       "      <th>4</th>\n",
       "      <td>47.663443</td>\n",
       "      <td>92.015862</td>\n",
       "      <td>129.041882</td>\n",
       "    </tr>\n",
       "    <tr>\n",
       "      <th>5</th>\n",
       "      <td>44.921332</td>\n",
       "      <td>90.542490</td>\n",
       "      <td>129.250334</td>\n",
       "    </tr>\n",
       "    <tr>\n",
       "      <th>6</th>\n",
       "      <td>44.288727</td>\n",
       "      <td>89.757566</td>\n",
       "      <td>129.977584</td>\n",
       "    </tr>\n",
       "    <tr>\n",
       "      <th>7</th>\n",
       "      <td>45.107942</td>\n",
       "      <td>92.477244</td>\n",
       "      <td>128.761138</td>\n",
       "    </tr>\n",
       "    <tr>\n",
       "      <th>8</th>\n",
       "      <td>45.247570</td>\n",
       "      <td>90.947952</td>\n",
       "      <td>129.104656</td>\n",
       "    </tr>\n",
       "    <tr>\n",
       "      <th>9</th>\n",
       "      <td>44.451177</td>\n",
       "      <td>91.991373</td>\n",
       "      <td>129.545252</td>\n",
       "    </tr>\n",
       "    <tr>\n",
       "      <th>10</th>\n",
       "      <td>46.755301</td>\n",
       "      <td>92.023571</td>\n",
       "      <td>129.218588</td>\n",
       "    </tr>\n",
       "    <tr>\n",
       "      <th>11</th>\n",
       "      <td>46.513727</td>\n",
       "      <td>90.556965</td>\n",
       "      <td>129.595498</td>\n",
       "    </tr>\n",
       "    <tr>\n",
       "      <th>12</th>\n",
       "      <td>46.161909</td>\n",
       "      <td>91.539567</td>\n",
       "      <td>128.905682</td>\n",
       "    </tr>\n",
       "    <tr>\n",
       "      <th>13</th>\n",
       "      <td>45.536719</td>\n",
       "      <td>91.185225</td>\n",
       "      <td>129.521145</td>\n",
       "    </tr>\n",
       "    <tr>\n",
       "      <th>14</th>\n",
       "      <td>46.762540</td>\n",
       "      <td>92.298971</td>\n",
       "      <td>129.460433</td>\n",
       "    </tr>\n",
       "    <tr>\n",
       "      <th>15</th>\n",
       "      <td>44.561597</td>\n",
       "      <td>91.084639</td>\n",
       "      <td>129.426392</td>\n",
       "    </tr>\n",
       "    <tr>\n",
       "      <th>16</th>\n",
       "      <td>46.000360</td>\n",
       "      <td>90.984471</td>\n",
       "      <td>129.137181</td>\n",
       "    </tr>\n",
       "    <tr>\n",
       "      <th>17</th>\n",
       "      <td>46.984076</td>\n",
       "      <td>89.981744</td>\n",
       "      <td>128.918275</td>\n",
       "    </tr>\n",
       "    <tr>\n",
       "      <th>18</th>\n",
       "      <td>44.927727</td>\n",
       "      <td>90.547140</td>\n",
       "      <td>128.911741</td>\n",
       "    </tr>\n",
       "    <tr>\n",
       "      <th>19</th>\n",
       "      <td>46.670485</td>\n",
       "      <td>89.820219</td>\n",
       "      <td>129.660828</td>\n",
       "    </tr>\n",
       "    <tr>\n",
       "      <th>20</th>\n",
       "      <td>42.813338</td>\n",
       "      <td>91.768721</td>\n",
       "      <td>129.173938</td>\n",
       "    </tr>\n",
       "    <tr>\n",
       "      <th>21</th>\n",
       "      <td>45.841172</td>\n",
       "      <td>92.305556</td>\n",
       "      <td>129.093057</td>\n",
       "    </tr>\n",
       "    <tr>\n",
       "      <th>22</th>\n",
       "      <td>45.356413</td>\n",
       "      <td>90.503017</td>\n",
       "      <td>129.045072</td>\n",
       "    </tr>\n",
       "    <tr>\n",
       "      <th>23</th>\n",
       "      <td>46.743648</td>\n",
       "      <td>92.147974</td>\n",
       "      <td>129.630795</td>\n",
       "    </tr>\n",
       "    <tr>\n",
       "      <th>24</th>\n",
       "      <td>45.909346</td>\n",
       "      <td>91.386320</td>\n",
       "      <td>129.317562</td>\n",
       "    </tr>\n",
       "    <tr>\n",
       "      <th>25</th>\n",
       "      <td>46.183499</td>\n",
       "      <td>90.815660</td>\n",
       "      <td>129.474475</td>\n",
       "    </tr>\n",
       "    <tr>\n",
       "      <th>26</th>\n",
       "      <td>43.933355</td>\n",
       "      <td>92.216574</td>\n",
       "      <td>129.641997</td>\n",
       "    </tr>\n",
       "    <tr>\n",
       "      <th>27</th>\n",
       "      <td>46.390399</td>\n",
       "      <td>90.107460</td>\n",
       "      <td>129.171260</td>\n",
       "    </tr>\n",
       "    <tr>\n",
       "      <th>28</th>\n",
       "      <td>45.180149</td>\n",
       "      <td>90.620318</td>\n",
       "      <td>128.939225</td>\n",
       "    </tr>\n",
       "    <tr>\n",
       "      <th>29</th>\n",
       "      <td>48.255857</td>\n",
       "      <td>91.165331</td>\n",
       "      <td>129.245918</td>\n",
       "    </tr>\n",
       "  </tbody>\n",
       "</table>\n",
       "</div>"
      ],
      "text/plain": [
       "    Regressor error  Dummy error  Permuted error\n",
       "0         46.358811    90.713153      129.062256\n",
       "1         46.700845    90.539353      129.561194\n",
       "2         44.563802    91.941912      128.929266\n",
       "3         43.708230    90.213912      129.088553\n",
       "4         47.663443    92.015862      129.041882\n",
       "5         44.921332    90.542490      129.250334\n",
       "6         44.288727    89.757566      129.977584\n",
       "7         45.107942    92.477244      128.761138\n",
       "8         45.247570    90.947952      129.104656\n",
       "9         44.451177    91.991373      129.545252\n",
       "10        46.755301    92.023571      129.218588\n",
       "11        46.513727    90.556965      129.595498\n",
       "12        46.161909    91.539567      128.905682\n",
       "13        45.536719    91.185225      129.521145\n",
       "14        46.762540    92.298971      129.460433\n",
       "15        44.561597    91.084639      129.426392\n",
       "16        46.000360    90.984471      129.137181\n",
       "17        46.984076    89.981744      128.918275\n",
       "18        44.927727    90.547140      128.911741\n",
       "19        46.670485    89.820219      129.660828\n",
       "20        42.813338    91.768721      129.173938\n",
       "21        45.841172    92.305556      129.093057\n",
       "22        45.356413    90.503017      129.045072\n",
       "23        46.743648    92.147974      129.630795\n",
       "24        45.909346    91.386320      129.317562\n",
       "25        46.183499    90.815660      129.474475\n",
       "26        43.933355    92.216574      129.641997\n",
       "27        46.390399    90.107460      129.171260\n",
       "28        45.180149    90.620318      128.939225\n",
       "29        48.255857    91.165331      129.245918"
      ]
     },
     "execution_count": 7,
     "metadata": {},
     "output_type": "execute_result"
    }
   ],
   "source": [
    "final_errors = pd.concat([errors_regressor, errors_dummy, errors_permutation],\n",
    "                         axis=1)\n",
    "final_errors"
   ]
  },
  {
   "cell_type": "code",
   "execution_count": 7,
   "metadata": {},
   "outputs": [
    {
     "data": {
      "image/png": "[encoded data removed]",
      "text/plain": [
       "<Figure size 432x288 with 1 Axes>"
      ]
     },
     "metadata": {
      "needs_background": "light"
     },
     "output_type": "display_data"
    }
   ],
   "source": [
    "import matplotlib.pyplot as plt\n",
    "\n",
    "final_errors.plot.hist(bins=50, density=True, edgecolor=\"black\")\n",
    "plt.legend(bbox_to_anchor=(1.05, 0.8), loc=\"upper left\")\n",
    "plt.xlabel(\"Mean absolute error (k$)\")\n",
    "_ = plt.title(\"Distribution of the testing errors\")"
   ]
  },
  {
   "cell_type": "markdown",
   "metadata": {},
   "source": [
    "Vemos que, mesmo que o desempenho de generalização de nosso modelo esteja longe de ser bom, ele é melhor do que as duas linhas de base. Além disso, vemos que o regressor dummy é melhor do que um regressor de nível de chance.\n",
    "\n",
    "Na prática, o uso de um regressor fictício pode ser suficiente como linha de base. Na verdade, para obter uma estimativa confiável, a permutação do alvo deve ser repetida e, portanto, esse método é caro. No entanto, dá o nível de chance real."
   ]
  },
  {
   "cell_type": "markdown",
   "metadata": {},
   "source": [
    "# 📝 Exercício M7.01\n",
    "Este caderno tem como objetivo construir classificadores de linha de base, que usaremos para comparar nosso modelo preditivo. Além disso, vamos verificar as diferenças com as linhas de base que vimos na regressão.\n",
    "\n",
    "Usaremos o conjunto de dados do censo de adultos, usando apenas os recursos numéricos."
   ]
  },
  {
   "cell_type": "code",
   "execution_count": 9,
   "metadata": {},
   "outputs": [
    {
     "data": {
      "text/plain": [
       "('C:/Users/Rogerio Lopes/Desktop/Rogerio/Machine_Learning_With_Scikit_Learn/Module7_evaluanting_model_performance/adult-census-numeric-all.csv',\n",
       " <http.client.HTTPMessage at 0x1dc8cfc9940>)"
      ]
     },
     "execution_count": 9,
     "metadata": {},
     "output_type": "execute_result"
    }
   ],
   "source": [
    "from urllib.request import urlretrieve \n",
    "# lembre de sempre pegar o arquivo do tipo RAW no github \n",
    "url = 'https://raw.githubusercontent.com/INRIA/scikit-learn-mooc/end-of-v1.0-session/datasets/adult-census-numeric-all.csv'\n",
    "urlretrieve(url, 'C:/Users/Rogerio Lopes/Desktop/Rogerio/Machine_Learning_With_Scikit_Learn/Module7_evaluanting_model_performance/adult-census-numeric-all.csv')"
   ]
  },
  {
   "cell_type": "code",
   "execution_count": 8,
   "metadata": {},
   "outputs": [],
   "source": [
    "import pandas as pd\n",
    "\n",
    "adult_census = pd.read_csv(\"adult-census-numeric-all.csv\")\n",
    "data, target = adult_census.drop(columns=\"class\"), adult_census[\"class\"]"
   ]
  },
  {
   "cell_type": "markdown",
   "metadata": {},
   "source": [
    "Primeiro, defina uma `ShuffleSplit` estratégia de validação cruzada tomando metade da amostra como um teste em cada rodada."
   ]
  },
  {
   "cell_type": "code",
   "execution_count": 9,
   "metadata": {},
   "outputs": [],
   "source": [
    "# solution\n",
    "from sklearn.model_selection import ShuffleSplit\n",
    "\n",
    "cv = ShuffleSplit(n_splits=10, test_size=0.5, random_state=0)"
   ]
  },
  {
   "cell_type": "markdown",
   "metadata": {},
   "source": [
    "Em seguida, crie um pipeline de aprendizado de máquina composto por um transformador para padronizar os dados seguido por uma regressão logística."
   ]
  },
  {
   "cell_type": "code",
   "execution_count": 10,
   "metadata": {},
   "outputs": [
    {
     "data": {
      "text/html": [
       "<style>div.sk-top-container {color: black;background-color: white;}div.sk-toggleable {background-color: white;}label.sk-toggleable__label {cursor: pointer;display: block;width: 100%;margin-bottom: 0;padding: 0.2em 0.3em;box-sizing: border-box;text-align: center;}div.sk-toggleable__content {max-height: 0;max-width: 0;overflow: hidden;text-align: left;background-color: #f0f8ff;}div.sk-toggleable__content pre {margin: 0.2em;color: black;border-radius: 0.25em;background-color: #f0f8ff;}input.sk-toggleable__control:checked~div.sk-toggleable__content {max-height: 200px;max-width: 100%;overflow: auto;}div.sk-estimator input.sk-toggleable__control:checked~label.sk-toggleable__label {background-color: #d4ebff;}div.sk-label input.sk-toggleable__control:checked~label.sk-toggleable__label {background-color: #d4ebff;}input.sk-hidden--visually {border: 0;clip: rect(1px 1px 1px 1px);clip: rect(1px, 1px, 1px, 1px);height: 1px;margin: -1px;overflow: hidden;padding: 0;position: absolute;width: 1px;}div.sk-estimator {font-family: monospace;background-color: #f0f8ff;margin: 0.25em 0.25em;border: 1px dotted black;border-radius: 0.25em;box-sizing: border-box;}div.sk-estimator:hover {background-color: #d4ebff;}div.sk-parallel-item::after {content: \"\";width: 100%;border-bottom: 1px solid gray;flex-grow: 1;}div.sk-label:hover label.sk-toggleable__label {background-color: #d4ebff;}div.sk-serial::before {content: \"\";position: absolute;border-left: 1px solid gray;box-sizing: border-box;top: 2em;bottom: 0;left: 50%;}div.sk-serial {display: flex;flex-direction: column;align-items: center;background-color: white;}div.sk-item {z-index: 1;}div.sk-parallel {display: flex;align-items: stretch;justify-content: center;background-color: white;}div.sk-parallel-item {display: flex;flex-direction: column;position: relative;background-color: white;}div.sk-parallel-item:first-child::after {align-self: flex-end;width: 50%;}div.sk-parallel-item:last-child::after {align-self: flex-start;width: 50%;}div.sk-parallel-item:only-child::after {width: 0;}div.sk-dashed-wrapped {border: 1px dashed gray;margin: 0.2em;box-sizing: border-box;padding-bottom: 0.1em;background-color: white;position: relative;}div.sk-label label {font-family: monospace;font-weight: bold;background-color: white;display: inline-block;line-height: 1.2em;}div.sk-label-container {position: relative;z-index: 2;text-align: center;}div.sk-container {display: inline-block;position: relative;}</style><div class=\"sk-top-container\"><div class=\"sk-container\"><div class=\"sk-item sk-dashed-wrapped\"><div class=\"sk-label-container\"><div class=\"sk-label sk-toggleable\"><input class=\"sk-toggleable__control sk-hidden--visually\" id=\"9e5c17e3-6840-4fae-9114-adc3ce7aa237\" type=\"checkbox\" ><label class=\"sk-toggleable__label\" for=\"9e5c17e3-6840-4fae-9114-adc3ce7aa237\">Pipeline</label><div class=\"sk-toggleable__content\"><pre>Pipeline(steps=[('standardscaler', StandardScaler()),\n",
       "                ('logisticregression', LogisticRegression())])</pre></div></div></div><div class=\"sk-serial\"><div class=\"sk-item\"><div class=\"sk-estimator sk-toggleable\"><input class=\"sk-toggleable__control sk-hidden--visually\" id=\"81084489-f209-4839-beb7-d32cbc9a0a24\" type=\"checkbox\" ><label class=\"sk-toggleable__label\" for=\"81084489-f209-4839-beb7-d32cbc9a0a24\">StandardScaler</label><div class=\"sk-toggleable__content\"><pre>StandardScaler()</pre></div></div></div><div class=\"sk-item\"><div class=\"sk-estimator sk-toggleable\"><input class=\"sk-toggleable__control sk-hidden--visually\" id=\"5cc1c719-8bd2-41d4-9952-bc8e3ad4adb7\" type=\"checkbox\" ><label class=\"sk-toggleable__label\" for=\"5cc1c719-8bd2-41d4-9952-bc8e3ad4adb7\">LogisticRegression</label><div class=\"sk-toggleable__content\"><pre>LogisticRegression()</pre></div></div></div></div></div></div></div>"
      ],
      "text/plain": [
       "Pipeline(steps=[('standardscaler', StandardScaler()),\n",
       "                ('logisticregression', LogisticRegression())])"
      ]
     },
     "execution_count": 10,
     "metadata": {},
     "output_type": "execute_result"
    }
   ],
   "source": [
    "# solution\n",
    "from sklearn.pipeline import make_pipeline\n",
    "from sklearn.preprocessing import StandardScaler\n",
    "from sklearn.linear_model import LogisticRegression\n",
    "from sklearn import set_config\n",
    "set_config(display='diagram')\n",
    "\n",
    "classifier = make_pipeline(StandardScaler(), LogisticRegression())\n",
    "classifier"
   ]
  },
  {
   "cell_type": "markdown",
   "metadata": {},
   "source": [
    "Obtenha a pontuação do teste usando o modelo, os dados e a estratégia de validação cruzada que você definiu acima."
   ]
  },
  {
   "cell_type": "code",
   "execution_count": 11,
   "metadata": {},
   "outputs": [
    {
     "data": {
      "text/plain": [
       "0    0.815937\n",
       "1    0.813849\n",
       "2    0.815036\n",
       "3    0.815569\n",
       "4    0.810982\n",
       "5    0.814709\n",
       "6    0.813112\n",
       "7    0.810327\n",
       "8    0.812416\n",
       "9    0.816388\n",
       "Name: Classifier score, dtype: float64"
      ]
     },
     "execution_count": 11,
     "metadata": {},
     "output_type": "execute_result"
    }
   ],
   "source": [
    "# solution\n",
    "from sklearn.model_selection import cross_validate\n",
    "\n",
    "result_classifier = cross_validate(classifier, data, target, cv=cv, n_jobs=2)\n",
    "\n",
    "test_score_classifier = pd.Series(\n",
    "    result_classifier[\"test_score\"], name=\"Classifier score\")\n",
    "test_score_classifier"
   ]
  },
  {
   "cell_type": "markdown",
   "metadata": {},
   "source": [
    "Usando a `sklearn.model_selection.permutation_test_score` função, verifique o nível de chance do modelo anterior."
   ]
  },
  {
   "cell_type": "code",
   "execution_count": 12,
   "metadata": {},
   "outputs": [
    {
     "data": {
      "text/plain": [
       "0    0.760112\n",
       "1    0.761238\n",
       "2    0.760550\n",
       "3    0.761398\n",
       "4    0.761001\n",
       "5    0.761193\n",
       "6    0.761091\n",
       "7    0.760923\n",
       "8    0.761549\n",
       "9    0.760444\n",
       "Name: Permuted score, dtype: float64"
      ]
     },
     "execution_count": 12,
     "metadata": {},
     "output_type": "execute_result"
    }
   ],
   "source": [
    "# solution\n",
    "from sklearn.model_selection import permutation_test_score\n",
    "\n",
    "score, permutation_score, pvalue = permutation_test_score(\n",
    "    classifier, data, target, cv=cv, n_jobs=2, n_permutations=10)\n",
    "test_score_permutation = pd.Series(permutation_score, name=\"Permuted score\")\n",
    "test_score_permutation"
   ]
  },
  {
   "cell_type": "markdown",
   "metadata": {},
   "source": [
    "Finalmente, calcule a pontuação do teste de um classificador fictício que preveria a classe mais frequente do conjunto de treinamento. Você pode olhar para a `sklearn.dummy.DummyClassifierclasse`."
   ]
  },
  {
   "cell_type": "code",
   "execution_count": 16,
   "metadata": {},
   "outputs": [],
   "source": [
    "# solution\n",
    "from sklearn.dummy import DummyClassifier\n",
    "\n",
    "dummy = DummyClassifier(strategy=\"most_frequent\")\n",
    "result_dummy = cross_validate(dummy, data, target, cv=cv, n_jobs=2)\n",
    "test_score_dummy = pd.Series(result_dummy[\"test_score\"], name=\"Dummy score\")"
   ]
  },
  {
   "cell_type": "markdown",
   "metadata": {},
   "source": [
    "Agora que coletamos os resultados das linhas de base e do modelo, represente graficamente as distribuições das diferentes pontuações dos testes.\n",
    "\n",
    "Nós concatenamos as diferentes pontuações de teste no mesmo dataframe do pandas."
   ]
  },
  {
   "cell_type": "code",
   "execution_count": 17,
   "metadata": {},
   "outputs": [],
   "source": [
    "# solution\n",
    "final_test_scores = pd.concat(\n",
    "    [test_score_classifier, test_score_permutation, test_score_dummy],\n",
    "    axis=1,\n",
    ")"
   ]
  },
  {
   "cell_type": "markdown",
   "metadata": {},
   "source": [
    "Em seguida, represente graficamente as distribuições das pontuações dos testes"
   ]
  },
  {
   "cell_type": "code",
   "execution_count": 18,
   "metadata": {},
   "outputs": [
    {
     "data": {
      "image/png": "[encoded data removed]",
      "text/plain": [
       "<Figure size 432x288 with 1 Axes>"
      ]
     },
     "metadata": {
      "needs_background": "light"
     },
     "output_type": "display_data"
    }
   ],
   "source": [
    "# solution\n",
    "import matplotlib.pyplot as plt\n",
    "\n",
    "final_test_scores.plot.hist(bins=50, density=True, edgecolor=\"black\")\n",
    "plt.legend(bbox_to_anchor=(1.05, 0.8), loc=\"upper left\")\n",
    "plt.xlabel(\"Accuracy (%)\")\n",
    "_ = plt.title(\"Distribution of the test scores\")"
   ]
  },
  {
   "cell_type": "markdown",
   "metadata": {},
   "source": [
    "Mude a estratégia do classificador fictício para `stratified`, compute os resultados e plote a distribuição junto com os outros resultados. Explique por que os resultados pioram."
   ]
  },
  {
   "cell_type": "code",
   "execution_count": 19,
   "metadata": {},
   "outputs": [],
   "source": [
    "# solution\n",
    "dummy = DummyClassifier(strategy=\"stratified\")\n",
    "result_dummy_stratify = cross_validate(dummy, data, target, cv=cv, n_jobs=2)\n",
    "test_score_dummy_stratify = pd.Series(\n",
    "    result_dummy_stratify[\"test_score\"], name=\"Dummy 'stratify' score\")"
   ]
  },
  {
   "cell_type": "code",
   "execution_count": 20,
   "metadata": {},
   "outputs": [],
   "source": [
    "final_test_scores = pd.concat(\n",
    "    [\n",
    "        test_score_classifier, test_score_permutation,\n",
    "        test_score_dummy, test_score_dummy_stratify,\n",
    "    ],\n",
    "    axis=1,\n",
    ")"
   ]
  },
  {
   "cell_type": "code",
   "execution_count": 21,
   "metadata": {},
   "outputs": [
    {
     "data": {
      "image/png": "[encoded data removed]",
      "text/plain": [
       "<Figure size 432x288 with 1 Axes>"
      ]
     },
     "metadata": {
      "needs_background": "light"
     },
     "output_type": "display_data"
    }
   ],
   "source": [
    "final_test_scores.plot.hist(bins=50, density=True, edgecolor=\"black\")\n",
    "plt.legend(bbox_to_anchor=(1.05, 0.8), loc=\"upper left\")\n",
    "plt.xlabel(\"Accuracy (%)\")\n",
    "_ = plt.title(\"Distribution of the test scores\")"
   ]
  },
  {
   "cell_type": "markdown",
   "metadata": {},
   "source": [
    "Vemos que usando a `strategy=\"stratified\"`, os resultados são muito piores do que com a estratégia `most_frequent`. Como as classes são desequilibradas, prever a mais frequente envolve que estaremos certos para a proporção dessa classe (~ 75% das amostras). No entanto, ao usar a estratégia `stratified`, previsões erradas serão feitas mesmo para a classe mais frequente, portanto, obtemos uma precisão menor."
   ]
  }
 ],
 "metadata": {
  "kernelspec": {
   "display_name": "Python 3",
   "language": "python",
   "name": "python3"
  },
  "language_info": {
   "codemirror_mode": {
    "name": "ipython",
    "version": 3
   },
   "file_extension": ".py",
   "mimetype": "text/x-python",
   "name": "python",
   "nbconvert_exporter": "python",
   "pygments_lexer": "ipython3",
   "version": "3.8.5"
  }
 },
 "nbformat": 4,
 "nbformat_minor": 4
}
