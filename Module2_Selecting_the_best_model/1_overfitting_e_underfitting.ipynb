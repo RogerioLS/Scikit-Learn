{
 "cells": [
  {
   "cell_type": "markdown",
   "metadata": {},
   "source": [
    "# A estrutura e por que precisamos dela\n",
    "Nos cadernos anteriores, apresentamos alguns conceitos relativos à avaliação de modelos preditivos. Embora esta seção possa ser um pouco redundante, pretendemos entrar em detalhes na estrutura de validação cruzada.\n",
    "\n",
    "Antes de começarmos, vamos nos deter nas razões para sempre ter conjuntos de treinamento e teste. Vejamos primeiro a limitação de usar um conjunto de dados sem excluir nenhuma amostra.\n",
    "\n",
    "Para ilustrar os diferentes conceitos, usaremos o conjunto de dados de habitação da Califórnia."
   ]
  },
  {
   "cell_type": "code",
   "execution_count": 1,
   "metadata": {},
   "outputs": [],
   "source": [
    "from sklearn.datasets import fetch_california_housing\n",
    " \n",
    "housing = fetch_california_housing(as_frame=True)\n",
    "data, target = housing.data, housing.target"
   ]
  },
  {
   "cell_type": "markdown",
   "metadata": {},
   "source": [
    "Neste conjunto de dados, o objetivo é prever o valor médio das casas em uma área\n",
    "Em califórnia. Os recursos coletados são baseados em imóveis gerais e\n",
    "informações geográficas.\n",
    "\n",
    "Portanto, a tarefa a ser resolvida é diferente da mostrada na seção anterior\n",
    "caderno. O alvo a ser previsto é uma variável contínua e não mais\n",
    "discreto. Essa tarefa é chamada de regressão.\n",
    "\n",
    "Isso, vamos usar um modelo preditivo específico para regressão e não para\n",
    "classificação."
   ]
  },
  {
   "cell_type": "code",
   "execution_count": 2,
   "metadata": {},
   "outputs": [
    {
     "name": "stdout",
     "output_type": "stream",
     "text": [
      ".. _california_housing_dataset:\n",
      "\n",
      "California Housing dataset\n",
      "--------------------------\n",
      "\n",
      "**Data Set Characteristics:**\n",
      "\n",
      "    :Number of Instances: 20640\n",
      "\n",
      "    :Number of Attributes: 8 numeric, predictive attributes and the target\n",
      "\n",
      "    :Attribute Information:\n",
      "        - MedInc        median income in block\n",
      "        - HouseAge      median house age in block\n",
      "        - AveRooms      average number of rooms\n",
      "        - AveBedrms     average number of bedrooms\n",
      "        - Population    block population\n",
      "        - AveOccup      average house occupancy\n",
      "        - Latitude      house block latitude\n",
      "        - Longitude     house block longitude\n",
      "\n",
      "    :Missing Attribute Values: None\n",
      "\n",
      "This dataset was obtained from the StatLib repository.\n",
      "http://lib.stat.cmu.edu/datasets/\n",
      "\n",
      "The target variable is the median house value for California districts.\n",
      "\n",
      "This dataset was derived from the 1990 U.S. census, using one row per census\n",
      "block group. A block group is the smallest geographical unit for which the U.S.\n",
      "Census Bureau publishes sample data (a block group typically has a population\n",
      "of 600 to 3,000 people).\n",
      "\n",
      "It can be downloaded/loaded using the\n",
      ":func:`sklearn.datasets.fetch_california_housing` function.\n",
      "\n",
      ".. topic:: References\n",
      "\n",
      "    - Pace, R. Kelley and Ronald Barry, Sparse Spatial Autoregressions,\n",
      "      Statistics and Probability Letters, 33 (1997) 291-297\n",
      "\n"
     ]
    }
   ],
   "source": [
    "print(housing.DESCR)"
   ]
  },
  {
   "cell_type": "code",
   "execution_count": 3,
   "metadata": {},
   "outputs": [
    {
     "data": {
      "text/html": [
       "<div>\n",
       "<style scoped>\n",
       "    .dataframe tbody tr th:only-of-type {\n",
       "        vertical-align: middle;\n",
       "    }\n",
       "\n",
       "    .dataframe tbody tr th {\n",
       "        vertical-align: top;\n",
       "    }\n",
       "\n",
       "    .dataframe thead th {\n",
       "        text-align: right;\n",
       "    }\n",
       "</style>\n",
       "<table border=\"1\" class=\"dataframe\">\n",
       "  <thead>\n",
       "    <tr style=\"text-align: right;\">\n",
       "      <th></th>\n",
       "      <th>MedInc</th>\n",
       "      <th>HouseAge</th>\n",
       "      <th>AveRooms</th>\n",
       "      <th>AveBedrms</th>\n",
       "      <th>Population</th>\n",
       "      <th>AveOccup</th>\n",
       "      <th>Latitude</th>\n",
       "      <th>Longitude</th>\n",
       "    </tr>\n",
       "  </thead>\n",
       "  <tbody>\n",
       "    <tr>\n",
       "      <th>0</th>\n",
       "      <td>8.3252</td>\n",
       "      <td>41.0</td>\n",
       "      <td>6.984127</td>\n",
       "      <td>1.023810</td>\n",
       "      <td>322.0</td>\n",
       "      <td>2.555556</td>\n",
       "      <td>37.88</td>\n",
       "      <td>-122.23</td>\n",
       "    </tr>\n",
       "    <tr>\n",
       "      <th>1</th>\n",
       "      <td>8.3014</td>\n",
       "      <td>21.0</td>\n",
       "      <td>6.238137</td>\n",
       "      <td>0.971880</td>\n",
       "      <td>2401.0</td>\n",
       "      <td>2.109842</td>\n",
       "      <td>37.86</td>\n",
       "      <td>-122.22</td>\n",
       "    </tr>\n",
       "    <tr>\n",
       "      <th>2</th>\n",
       "      <td>7.2574</td>\n",
       "      <td>52.0</td>\n",
       "      <td>8.288136</td>\n",
       "      <td>1.073446</td>\n",
       "      <td>496.0</td>\n",
       "      <td>2.802260</td>\n",
       "      <td>37.85</td>\n",
       "      <td>-122.24</td>\n",
       "    </tr>\n",
       "    <tr>\n",
       "      <th>3</th>\n",
       "      <td>5.6431</td>\n",
       "      <td>52.0</td>\n",
       "      <td>5.817352</td>\n",
       "      <td>1.073059</td>\n",
       "      <td>558.0</td>\n",
       "      <td>2.547945</td>\n",
       "      <td>37.85</td>\n",
       "      <td>-122.25</td>\n",
       "    </tr>\n",
       "    <tr>\n",
       "      <th>4</th>\n",
       "      <td>3.8462</td>\n",
       "      <td>52.0</td>\n",
       "      <td>6.281853</td>\n",
       "      <td>1.081081</td>\n",
       "      <td>565.0</td>\n",
       "      <td>2.181467</td>\n",
       "      <td>37.85</td>\n",
       "      <td>-122.25</td>\n",
       "    </tr>\n",
       "  </tbody>\n",
       "</table>\n",
       "</div>"
      ],
      "text/plain": [
       "   MedInc  HouseAge  AveRooms  AveBedrms  Population  AveOccup  Latitude  \\\n",
       "0  8.3252      41.0  6.984127   1.023810       322.0  2.555556     37.88   \n",
       "1  8.3014      21.0  6.238137   0.971880      2401.0  2.109842     37.86   \n",
       "2  7.2574      52.0  8.288136   1.073446       496.0  2.802260     37.85   \n",
       "3  5.6431      52.0  5.817352   1.073059       558.0  2.547945     37.85   \n",
       "4  3.8462      52.0  6.281853   1.081081       565.0  2.181467     37.85   \n",
       "\n",
       "   Longitude  \n",
       "0    -122.23  \n",
       "1    -122.22  \n",
       "2    -122.24  \n",
       "3    -122.25  \n",
       "4    -122.25  "
      ]
     },
     "execution_count": 3,
     "metadata": {},
     "output_type": "execute_result"
    }
   ],
   "source": [
    "data.head()"
   ]
  },
  {
   "cell_type": "markdown",
   "metadata": {},
   "source": [
    "Para simplificar a visualização futura, vamos transformar os preços do\n",
    "dólar (\\\\$) variando até o intervalo de mil dólares (k\\\\$)."
   ]
  },
  {
   "cell_type": "code",
   "execution_count": 3,
   "metadata": {},
   "outputs": [
    {
     "data": {
      "text/plain": [
       "0    452.6\n",
       "1    358.5\n",
       "2    352.1\n",
       "3    341.3\n",
       "4    342.2\n",
       "Name: MedHouseVal, dtype: float64"
      ]
     },
     "execution_count": 3,
     "metadata": {},
     "output_type": "execute_result"
    }
   ],
   "source": [
    "target *= 100\n",
    "target.head()"
   ]
  },
  {
   "cell_type": "markdown",
   "metadata": {},
   "source": [
    "<div class=\"admonition note alert alert-info\">\n",
    "<p class=\"first admonition-title\" style=\"font-weight: bold;\">Note</p>\n",
    "<p class=\"last\">Se você quiser uma visão geral mais aprofundada sobre este conjunto de dados, pode consultar o\n",
    "Appendix - Datasets seção de descrição no final deste MOOC.</p>\n",
    "</div>"
   ]
  },
  {
   "cell_type": "markdown",
   "metadata": {},
   "source": [
    "## Erro de treinamento vs erro de teste\n",
    "\n",
    "Para resolver essa tarefa de regressão, usaremos um regressor de árvore de decisão."
   ]
  },
  {
   "cell_type": "code",
   "execution_count": 4,
   "metadata": {},
   "outputs": [
    {
     "data": {
      "text/plain": [
       "DecisionTreeRegressor(random_state=0)"
      ]
     },
     "execution_count": 4,
     "metadata": {},
     "output_type": "execute_result"
    }
   ],
   "source": [
    "from sklearn.tree import DecisionTreeRegressor\n",
    "\n",
    "regressor = DecisionTreeRegressor(random_state=0)\n",
    "regressor.fit(data, target)"
   ]
  },
  {
   "cell_type": "markdown",
   "metadata": {},
   "source": [
    "Depois de treinar o regressor, gostaríamos de saber seu potencial estatístico\n",
    "desempenho uma vez implantado na produção. Para este propósito, usamos a média\n",
    "erro absoluto, o que nos dá um erro na unidade nativa, ou seja, k\\\\$."
   ]
  },
  {
   "cell_type": "code",
   "execution_count": 6,
   "metadata": {},
   "outputs": [
    {
     "name": "stdout",
     "output_type": "stream",
     "text": [
      "Em média, nosso regressor comete um erro de 0.00 k$\n"
     ]
    }
   ],
   "source": [
    "from sklearn.metrics import mean_absolute_error\n",
    "\n",
    "target_predicted = regressor.predict(data)\n",
    "score = mean_absolute_error(target, target_predicted)\n",
    "print(f\"Em média, nosso regressor comete um erro de {score:.2f} k$\")"
   ]
  },
  {
   "cell_type": "markdown",
   "metadata": {},
   "source": [
    "Obtemos uma previsão perfeita sem erros. É muito otimista e quase\n",
    "sempre revelando um problema metodológico ao fazer o aprendizado de máquina.\n",
    "\n",
    "Na verdade, treinamos e previmos no mesmo conjunto de dados. Desde nossa árvore de decisão\n",
    "foi totalmente desenvolvido, cada amostra no conjunto de dados é armazenada em um nó folha.\n",
    "Portanto, nossa árvore de decisão memorizou totalmente o conjunto de dados fornecido durante o `ajuste`\n",
    "e, portanto, não cometeu nenhum erro ao prever.\n",
    "\n",
    "Este erro calculado acima é chamado de **erro empírico** ou **treinamento\n",
    "erro**.\n",
    "\n",
    "<div class=\"admonition note alert alert-info\">\n",
    "<p class=\"first admonition-title\" style=\"font-weight: bold;\">Note</p>\n",
    "<p class=\"last\">In this MOOC, we will consistently use the term \"training error\".</p>\n",
    "</div>\n",
    "\n",
    "Treinamos um modelo preditivo para minimizar o erro de treinamento, mas nosso objetivo é\n",
    "para minimizar o erro em dados que não foram vistos durante o treinamento.\n",
    "\n",
    "Este erro também é chamado de **erro de generalização** ou \"verdadeiro\"\n",
    "**erro de teste**.\n",
    "\n",
    "<div class=\"admonition note alert alert-info\">\n",
    "<p class=\"first admonition-title\" style=\"font-weight: bold;\">Note</p>\n",
    "<p class=\"last\">In this MOOC, we will consistently use the term \"testing error\".</p>\n",
    "</div>\n",
    "\n",
    "Assim, a avaliação mais básica envolve:\n",
    "\n",
    "* dividir nosso conjunto de dados em dois subconjuntos: um conjunto de treinamento e um conjunto de teste;\n",
    "* adequação do modelo ao conjunto de treinamento;\n",
    "* estimar o erro de treinamento no conjunto de treinamento;\n",
    "* estimar o erro de teste no conjunto de teste.\n",
    "\n",
    "Então, vamos dividir nosso conjunto de dados."
   ]
  },
  {
   "cell_type": "code",
   "execution_count": 7,
   "metadata": {},
   "outputs": [],
   "source": [
    "from sklearn.model_selection import train_test_split\n",
    "\n",
    "data_train, data_test, target_train, target_test = train_test_split(\n",
    "    data, target, random_state=0)"
   ]
  },
  {
   "cell_type": "markdown",
   "metadata": {},
   "source": [
    "Então, vamos treinar nosso modelo."
   ]
  },
  {
   "cell_type": "code",
   "execution_count": 9,
   "metadata": {},
   "outputs": [
    {
     "data": {
      "text/plain": [
       "DecisionTreeRegressor(random_state=0)"
      ]
     },
     "execution_count": 9,
     "metadata": {},
     "output_type": "execute_result"
    }
   ],
   "source": [
    "regressor.fit(data_train, target_train)"
   ]
  },
  {
   "cell_type": "markdown",
   "metadata": {},
   "source": [
    "Finalmente, estimamos os diferentes tipos de erros. Vamos começar computando\n",
    "o erro de treinamento."
   ]
  },
  {
   "cell_type": "code",
   "execution_count": 11,
   "metadata": {},
   "outputs": [
    {
     "name": "stdout",
     "output_type": "stream",
     "text": [
      "O erro de treinamento do nosso modelo é 0.00 k$\n"
     ]
    }
   ],
   "source": [
    "target_predicted = regressor.predict(data_train)\n",
    "score = mean_absolute_error(target_train, target_predicted)\n",
    "print(f\"O erro de treinamento do nosso modelo é {score:.2f} k$\")"
   ]
  },
  {
   "cell_type": "markdown",
   "metadata": {},
   "source": [
    "We observe the same phenomena as in the previous experiment: our model\n",
    "memorized the training set. However, we now compute the testing error."
   ]
  },
  {
   "cell_type": "code",
   "execution_count": 12,
   "metadata": {},
   "outputs": [
    {
     "name": "stdout",
     "output_type": "stream",
     "text": [
      "O erro de teste do nosso modelo é 47.28 k$\n"
     ]
    }
   ],
   "source": [
    "target_predicted = regressor.predict(data_test)\n",
    "score = mean_absolute_error(target_test, target_predicted)\n",
    "print(f\"O erro de teste do nosso modelo é {score:.2f} k$\")"
   ]
  },
  {
   "cell_type": "markdown",
   "metadata": {},
   "source": [
    "Este erro de teste é realmente sobre o que esperaríamos de nosso modelo se\n",
    "foi usado em um ambiente de produção."
   ]
  },
  {
   "cell_type": "markdown",
   "metadata": {},
   "source": [
    "## Estabilidade das estimativas de validação cruzada\n",
    "\n",
    "Ao fazer uma divisão de teste de trem único, não damos qualquer indicação sobre\n",
    "a robustez da avaliação do nosso modelo preditivo: em particular, se\n",
    "o conjunto de teste é pequeno, esta estimativa do erro de teste será\n",
    "instável e não refletiria a \"taxa de erro real\" que teríamos observado\n",
    "com o mesmo modelo em uma quantidade ilimitada de dados de teste.\n",
    "\n",
    "Por exemplo, poderíamos ter tido sorte quando fizemos nossa divisão aleatória de nosso\n",
    "conjunto de dados limitado e isolado alguns dos casos mais fáceis de prever no\n",
    "teste definido por acaso: a estimativa do erro de teste seria\n",
    "excessivamente otimista, neste caso.\n",
    "\n",
    "**Cross-validation** permite estimar a robustez de um modelo preditivo\n",
    "repetindo o procedimento de divisão. Vai dar vários treinamentos e\n",
    "erros de teste e, portanto, alguma **estimativa da variabilidade do\n",
    "modelo de desempenho estatístico**.\n",
    "\n",
    "Existem diferentes estratégias de validação cruzada, por enquanto vamos\n",
    "concentre-se em um chamado \"shuffle-split\". A cada iteração desta estratégia nós:\n",
    "\n",
    "- embaralhar aleatoriamente a ordem das amostras de uma cópia do conjunto de dados completo;\n",
    "- dividir o conjunto de dados embaralhado em um trem e um conjunto de teste;\n",
    "- treinar um novo modelo no conjunto de trem;\n",
    "- avaliar o erro de teste no conjunto de teste.\n",
    "\n",
    "Repetimos este procedimento `n_splits` vezes. Usar `n_splits = 40` significa que nós\n",
    "treinaremos 40 modelos no total e todos serão descartados: acabamos de\n",
    "registre seu desempenho estatístico em cada variante do conjunto de teste.\n",
    "\n",
    "Para avaliar o desempenho estatístico do nosso regressor, podemos usar\n",
    "[`sklearn.model_selection.cross_validate`](https://scikit-learn.org/stable/modules/generated/sklearn.model_selection.cross_validate.html)\n",
    "with a\n",
    "[`sklearn.model_selection.ShuffleSplit`](https://scikit-learn.org/stable/modules/generated/sklearn.model_selection.ShuffleSplit.html)\n",
    "object:"
   ]
  },
  {
   "cell_type": "code",
   "execution_count": 13,
   "metadata": {},
   "outputs": [],
   "source": [
    "from sklearn.model_selection import cross_validate\n",
    "from sklearn.model_selection import ShuffleSplit\n",
    "\n",
    "cv = ShuffleSplit(n_splits=40, test_size=0.3, random_state=0)\n",
    "cv_results = cross_validate(regressor, data, target, cv=cv, scoring=\"neg_mean_absolute_error\")"
   ]
  },
  {
   "cell_type": "markdown",
   "metadata": {},
   "source": [
    "Os resultados `cv_results` são armazenados em um dicionário Python. Vamos converter\n",
    "em um dataframe do pandas para facilitar a visualização e a manipulação."
   ]
  },
  {
   "cell_type": "code",
   "execution_count": 14,
   "metadata": {},
   "outputs": [
    {
     "data": {
      "text/html": [
       "<div>\n",
       "<style scoped>\n",
       "    .dataframe tbody tr th:only-of-type {\n",
       "        vertical-align: middle;\n",
       "    }\n",
       "\n",
       "    .dataframe tbody tr th {\n",
       "        vertical-align: top;\n",
       "    }\n",
       "\n",
       "    .dataframe thead th {\n",
       "        text-align: right;\n",
       "    }\n",
       "</style>\n",
       "<table border=\"1\" class=\"dataframe\">\n",
       "  <thead>\n",
       "    <tr style=\"text-align: right;\">\n",
       "      <th></th>\n",
       "      <th>fit_time</th>\n",
       "      <th>score_time</th>\n",
       "      <th>test_score</th>\n",
       "    </tr>\n",
       "  </thead>\n",
       "  <tbody>\n",
       "    <tr>\n",
       "      <th>0</th>\n",
       "      <td>0.328133</td>\n",
       "      <td>0.003173</td>\n",
       "      <td>-46.909797</td>\n",
       "    </tr>\n",
       "    <tr>\n",
       "      <th>1</th>\n",
       "      <td>0.324792</td>\n",
       "      <td>0.008779</td>\n",
       "      <td>-46.421170</td>\n",
       "    </tr>\n",
       "    <tr>\n",
       "      <th>2</th>\n",
       "      <td>0.300069</td>\n",
       "      <td>0.010210</td>\n",
       "      <td>-47.411089</td>\n",
       "    </tr>\n",
       "    <tr>\n",
       "      <th>3</th>\n",
       "      <td>0.308730</td>\n",
       "      <td>0.009013</td>\n",
       "      <td>-44.319824</td>\n",
       "    </tr>\n",
       "    <tr>\n",
       "      <th>4</th>\n",
       "      <td>0.295651</td>\n",
       "      <td>0.005063</td>\n",
       "      <td>-47.607875</td>\n",
       "    </tr>\n",
       "  </tbody>\n",
       "</table>\n",
       "</div>"
      ],
      "text/plain": [
       "   fit_time  score_time  test_score\n",
       "0  0.328133    0.003173  -46.909797\n",
       "1  0.324792    0.008779  -46.421170\n",
       "2  0.300069    0.010210  -47.411089\n",
       "3  0.308730    0.009013  -44.319824\n",
       "4  0.295651    0.005063  -47.607875"
      ]
     },
     "execution_count": 14,
     "metadata": {},
     "output_type": "execute_result"
    }
   ],
   "source": [
    "import pandas as pd\n",
    "\n",
    "cv_results = pd.DataFrame(cv_results)\n",
    "cv_results.head()"
   ]
  },
  {
   "cell_type": "markdown",
   "metadata": {},
   "source": [
    "<div class=\"admonition tip alert alert-warning\">\n",
    "<p class=\"first admonition-title\" style=\"font-weight: bold;\">Tip</p>\n",
    "<p>Uma pontuação é uma métrica para a qual valores mais altos significam melhores resultados. No\n",
    "ao contrário, um erro é uma métrica para a qual valores mais baixos significam melhores resultados.\n",
    "O parâmetro <tt class=\"docutils literal\">scoring</tt> no <tt class=\"docutils literal\">cross_validate</tt> sempre espere uma função que seja\n",
    "um ponto.</p>\n",
    "<p class=\"last\">Para tornar mais fácil, todas as métricas de erro em scikit-learn, como\n",
    "<tt class=\"docutils literal\">mean_absolute_error</tt>,pode ser transformado em uma pontuação para ser usado em\n",
    "<tt class=\"docutils literal\">cross_validate</tt>. Para fazer isso, você precisa passar uma string da métrica de erro\n",
    "com um adicional <tt class=\"docutils literal\">neg_</tt>corda na frente para o parameta <tt class=\"docutils literal\">scoring</tt>;\n",
    "por exemplo <tt class=\"docutils literal\"><span class=\"pre\">scoring=\"neg_mean_absolute_error\"</span></tt>. Neste caso, o negativo\n",
    "do erro médio absoluto será calculado, o que seria equivalente a um pontuação.</p> </div>\n",
    "\n",
    "Vamos reverter a negação para obter o erro real:"
   ]
  },
  {
   "cell_type": "code",
   "execution_count": 15,
   "metadata": {},
   "outputs": [],
   "source": [
    "cv_results[\"test_error\"] = -cv_results[\"test_score\"]"
   ]
  },
  {
   "cell_type": "markdown",
   "metadata": {},
   "source": [
    "Vamos verificar os resultados relatados pela validação cruzada."
   ]
  },
  {
   "cell_type": "code",
   "execution_count": 16,
   "metadata": {},
   "outputs": [
    {
     "data": {
      "text/html": [
       "<div>\n",
       "<style scoped>\n",
       "    .dataframe tbody tr th:only-of-type {\n",
       "        vertical-align: middle;\n",
       "    }\n",
       "\n",
       "    .dataframe tbody tr th {\n",
       "        vertical-align: top;\n",
       "    }\n",
       "\n",
       "    .dataframe thead th {\n",
       "        text-align: right;\n",
       "    }\n",
       "</style>\n",
       "<table border=\"1\" class=\"dataframe\">\n",
       "  <thead>\n",
       "    <tr style=\"text-align: right;\">\n",
       "      <th></th>\n",
       "      <th>fit_time</th>\n",
       "      <th>score_time</th>\n",
       "      <th>test_score</th>\n",
       "      <th>test_error</th>\n",
       "    </tr>\n",
       "  </thead>\n",
       "  <tbody>\n",
       "    <tr>\n",
       "      <th>0</th>\n",
       "      <td>0.328133</td>\n",
       "      <td>0.003173</td>\n",
       "      <td>-46.909797</td>\n",
       "      <td>46.909797</td>\n",
       "    </tr>\n",
       "    <tr>\n",
       "      <th>1</th>\n",
       "      <td>0.324792</td>\n",
       "      <td>0.008779</td>\n",
       "      <td>-46.421170</td>\n",
       "      <td>46.421170</td>\n",
       "    </tr>\n",
       "    <tr>\n",
       "      <th>2</th>\n",
       "      <td>0.300069</td>\n",
       "      <td>0.010210</td>\n",
       "      <td>-47.411089</td>\n",
       "      <td>47.411089</td>\n",
       "    </tr>\n",
       "    <tr>\n",
       "      <th>3</th>\n",
       "      <td>0.308730</td>\n",
       "      <td>0.009013</td>\n",
       "      <td>-44.319824</td>\n",
       "      <td>44.319824</td>\n",
       "    </tr>\n",
       "    <tr>\n",
       "      <th>4</th>\n",
       "      <td>0.295651</td>\n",
       "      <td>0.005063</td>\n",
       "      <td>-47.607875</td>\n",
       "      <td>47.607875</td>\n",
       "    </tr>\n",
       "    <tr>\n",
       "      <th>5</th>\n",
       "      <td>0.325402</td>\n",
       "      <td>0.007804</td>\n",
       "      <td>-45.901300</td>\n",
       "      <td>45.901300</td>\n",
       "    </tr>\n",
       "    <tr>\n",
       "      <th>6</th>\n",
       "      <td>0.336345</td>\n",
       "      <td>0.007994</td>\n",
       "      <td>-46.572767</td>\n",
       "      <td>46.572767</td>\n",
       "    </tr>\n",
       "    <tr>\n",
       "      <th>7</th>\n",
       "      <td>0.312565</td>\n",
       "      <td>0.007731</td>\n",
       "      <td>-46.194585</td>\n",
       "      <td>46.194585</td>\n",
       "    </tr>\n",
       "    <tr>\n",
       "      <th>8</th>\n",
       "      <td>0.329999</td>\n",
       "      <td>0.005062</td>\n",
       "      <td>-45.590236</td>\n",
       "      <td>45.590236</td>\n",
       "    </tr>\n",
       "    <tr>\n",
       "      <th>9</th>\n",
       "      <td>0.332487</td>\n",
       "      <td>0.007675</td>\n",
       "      <td>-45.727998</td>\n",
       "      <td>45.727998</td>\n",
       "    </tr>\n",
       "  </tbody>\n",
       "</table>\n",
       "</div>"
      ],
      "text/plain": [
       "   fit_time  score_time  test_score  test_error\n",
       "0  0.328133    0.003173  -46.909797   46.909797\n",
       "1  0.324792    0.008779  -46.421170   46.421170\n",
       "2  0.300069    0.010210  -47.411089   47.411089\n",
       "3  0.308730    0.009013  -44.319824   44.319824\n",
       "4  0.295651    0.005063  -47.607875   47.607875\n",
       "5  0.325402    0.007804  -45.901300   45.901300\n",
       "6  0.336345    0.007994  -46.572767   46.572767\n",
       "7  0.312565    0.007731  -46.194585   46.194585\n",
       "8  0.329999    0.005062  -45.590236   45.590236\n",
       "9  0.332487    0.007675  -45.727998   45.727998"
      ]
     },
     "execution_count": 16,
     "metadata": {},
     "output_type": "execute_result"
    }
   ],
   "source": [
    "cv_results.head(10)"
   ]
  },
  {
   "cell_type": "markdown",
   "metadata": {},
   "source": [
    "Obtemos informações de tempo para ajustar e prever em cada validação cruzada\n",
    "iteração. Além disso, obtemos a pontuação do teste, que corresponde ao\n",
    "erro em cada uma das divisões."
   ]
  },
  {
   "cell_type": "code",
   "execution_count": 17,
   "metadata": {},
   "outputs": [
    {
     "data": {
      "text/plain": [
       "40"
      ]
     },
     "execution_count": 17,
     "metadata": {},
     "output_type": "execute_result"
    }
   ],
   "source": [
    "len(cv_results)"
   ]
  },
  {
   "cell_type": "markdown",
   "metadata": {},
   "source": [
    "Obtemos 40 entradas em nosso dataframe resultante porque executamos 40\n",
    "divisões. Portanto, podemos mostrar a distribuição do erro de teste e, portanto, ter\n",
    "uma estimativa de sua variabilidade."
   ]
  },
  {
   "cell_type": "code",
   "execution_count": 18,
   "metadata": {},
   "outputs": [
    {
     "data": {
      "image/png": "[encoded data removed]",
      "text/plain": [
       "<Figure size 432x288 with 1 Axes>"
      ]
     },
     "metadata": {
      "needs_background": "light"
     },
     "output_type": "display_data"
    }
   ],
   "source": [
    "import matplotlib.pyplot as plt\n",
    "\n",
    "cv_results[\"test_error\"].plot.hist(bins=10, edgecolor=\"black\", density=True)\n",
    "plt.xlabel(\"Mean absolute error (k$)\")\n",
    "_ = plt.title(\"Test error distribution\")"
   ]
  },
  {
   "cell_type": "markdown",
   "metadata": {},
   "source": [
    "Observamos que o erro de teste está agrupado em torno de 47 k\\\\$ e\n",
    "varia de 43 k\\\\$ a 50 k\\\\$."
   ]
  },
  {
   "cell_type": "code",
   "execution_count": 20,
   "metadata": {},
   "outputs": [
    {
     "name": "stdout",
     "output_type": "stream",
     "text": [
      "The mean cross-validated testing error is: 46.36 k$\n"
     ]
    }
   ],
   "source": [
    "print(f\"The mean cross-validated testing error is: \"\n",
    "      f\"{cv_results['test_error'].mean():.2f} k$\")"
   ]
  },
  {
   "cell_type": "code",
   "execution_count": 21,
   "metadata": {},
   "outputs": [
    {
     "name": "stdout",
     "output_type": "stream",
     "text": [
      "The standard deviation of the testing error is: 1.17 k$\n"
     ]
    }
   ],
   "source": [
    "print(f\"The standard deviation of the testing error is: \"\n",
    "      f\"{cv_results['test_error'].std():.2f} k$\")"
   ]
  },
  {
   "cell_type": "markdown",
   "metadata": {},
   "source": [
    "Observe que o desvio padrão é muito menor do que a média: poderíamos\n",
    "resumir que nossa estimativa de validação cruzada do erro de teste é\n",
    "46,36 +/- 1,17 k\\\\$.\n",
    "\n",
    "Se tivéssemos que treinar um único modelo no conjunto de dados completo (sem\n",
    "validação cruzada) e mais tarde teve acesso a uma quantidade ilimitada de teste\n",
    "dados, esperaríamos que seu verdadeiro erro de teste caísse perto disso\n",
    "região.\n",
    "\n",
    "Embora esta informação seja interessante em si mesma, deve ser comparada com\n",
    "a escala da variabilidade natural do vetor `alvo` em nosso conjunto de dados.\n",
    "\n",
    "Deixe-nos representar graficamente a distribuição da variável alvo:"
   ]
  },
  {
   "cell_type": "code",
   "execution_count": 22,
   "metadata": {},
   "outputs": [
    {
     "data": {
      "image/png": "[encoded data removed]",
      "text/plain": [
       "<Figure size 432x288 with 1 Axes>"
      ]
     },
     "metadata": {
      "needs_background": "light"
     },
     "output_type": "display_data"
    }
   ],
   "source": [
    "target.plot.hist(bins=20, edgecolor=\"black\", density=True)\n",
    "plt.xlabel(\"Median House Value (k$)\")\n",
    "_ = plt.title(\"Target distribution\")"
   ]
  },
  {
   "cell_type": "code",
   "execution_count": 24,
   "metadata": {},
   "outputs": [
    {
     "name": "stdout",
     "output_type": "stream",
     "text": [
      "O standard deviation do alvo é: 115.40 k$\n"
     ]
    }
   ],
   "source": [
    "print(f\"O standard deviation do alvo é: {target.std():.2f} k$\")"
   ]
  },
  {
   "cell_type": "markdown",
   "metadata": {},
   "source": [
    "A variável de destino varia de perto de 0 k\\\\$ até 500 k\\\\$ e, com um\n",
    "desvio padrão em torno de 115 k\\\\$.\n",
    "\n",
    "Notamos que a estimativa média do erro de teste obtida por\n",
    "a validação cruzada é um pouco menor do que a escala natural de variação do\n",
    "variável de destino. Além disso, o desvio padrão da validação cruzada\n",
    "estimativa do erro de teste é ainda menor.\n",
    "\n",
    "Este é um bom começo, mas não necessariamente o suficiente para decidir se o\n",
    "o desempenho de generalização é bom o suficiente para tornar nossa previsão útil em\n",
    "prática.\n",
    "\n",
    "Lembramos que nosso modelo comete, em média, um erro em torno de 47 k\\\\$. Com isso\n",
    "informações e olhando para a distribuição de destino, tal erro pode ser\n",
    "aceitável ao prever casas com 500 k \\$. No entanto, seria um\n",
    "questão com uma casa com um valor de 50 k\\\\$. Assim, isso indica que nosso\n",
    "métrica (erro médio absoluto) não é ideal.\n",
    "\n",
    "Em vez disso, podemos escolher uma métrica relativa ao valor alvo para prever: o\n",
    "o erro percentual médio absoluto teria sido uma escolha muito melhor.\n",
    "\n",
    "Mas em todos os casos, um erro de 47 k\\\\$ pode ser muito grande para ser usado automaticamente\n",
    "nosso modelo para marcar os valores da casa sem supervisão especializada.\n",
    "\n",
    "## Mais detalhes sobre `cross_validate`\n",
    "\n",
    "Durante a validação cruzada, muitos modelos são treinados e avaliados. Na verdade, o\n",
    "número de elementos em cada array da saída de `cross_validate` é um\n",
    "resultam de um desses procedimentos `fit` /` score`. Para torná-lo explícito, é\n",
    "possível recuperar esses modelos ajustados para cada uma das divisões / dobras por\n",
    "passando a opção `return_estimator = True` em` cross_validate`."
   ]
  },
  {
   "cell_type": "code",
   "execution_count": 25,
   "metadata": {},
   "outputs": [
    {
     "data": {
      "text/plain": [
       "{'fit_time': array([0.31623077, 0.13062978, 0.18691611, 0.17627311, 0.31074548]),\n",
       " 'score_time': array([0.        , 0.00303006, 0.00206232, 0.00501227, 0.00928807]),\n",
       " 'estimator': (DecisionTreeRegressor(random_state=0),\n",
       "  DecisionTreeRegressor(random_state=0),\n",
       "  DecisionTreeRegressor(random_state=0),\n",
       "  DecisionTreeRegressor(random_state=0),\n",
       "  DecisionTreeRegressor(random_state=0)),\n",
       " 'test_score': array([0.26291527, 0.41947109, 0.44492564, 0.23357874, 0.40788361])}"
      ]
     },
     "execution_count": 25,
     "metadata": {},
     "output_type": "execute_result"
    }
   ],
   "source": [
    "cv_results = cross_validate(regressor, data, target, return_estimator=True)\n",
    "cv_results"
   ]
  },
  {
   "cell_type": "code",
   "execution_count": 26,
   "metadata": {},
   "outputs": [
    {
     "data": {
      "text/plain": [
       "(DecisionTreeRegressor(random_state=0),\n",
       " DecisionTreeRegressor(random_state=0),\n",
       " DecisionTreeRegressor(random_state=0),\n",
       " DecisionTreeRegressor(random_state=0),\n",
       " DecisionTreeRegressor(random_state=0))"
      ]
     },
     "execution_count": 26,
     "metadata": {},
     "output_type": "execute_result"
    }
   ],
   "source": [
    "cv_results[\"estimator\"]"
   ]
  },
  {
   "cell_type": "markdown",
   "metadata": {},
   "source": [
    "Os cinco regressores da árvore de decisão correspondem às cinco decisões ajustadas\n",
    "árvores nas diferentes dobras. Ter acesso a esses regressores é útil\n",
    "porque permite inspecionar os parâmetros internos ajustados destes\n",
    "regressores.\n",
    "\n",
    "No caso em que você está interessado apenas na pontuação do teste, scikit-learn\n",
    "fornecer uma função `cross_val_score`. É idêntico a chamar o\n",
    "função `cross_validate` e para selecionar o` test_score` apenas (como nós\n",
    "extensivamente nos blocos de notas anteriores)."
   ]
  },
  {
   "cell_type": "code",
   "execution_count": 27,
   "metadata": {},
   "outputs": [
    {
     "data": {
      "text/plain": [
       "array([0.26291527, 0.41947109, 0.44492564, 0.23357874, 0.40788361])"
      ]
     },
     "execution_count": 27,
     "metadata": {},
     "output_type": "execute_result"
    }
   ],
   "source": [
    "from sklearn.model_selection import cross_val_score\n",
    "\n",
    "scores = cross_val_score(regressor, data, target)\n",
    "scores"
   ]
  },
  {
   "cell_type": "markdown",
   "metadata": {},
   "source": [
    "## Resumo\n",
    "\n",
    "Neste caderno, vimos:\n",
    "\n",
    "* a necessidade de dividir os dados em um conjunto de treinamento e teste;\n",
    "* o significado dos erros de treinamento e teste;\n",
    "* a estrutura geral de validação cruzada com a possibilidade de estudar\n",
    "  variações estatísticas de desempenho;"
   ]
  }
 ],
 "metadata": {
  "kernelspec": {
   "display_name": "Python 3",
   "language": "python",
   "name": "python3"
  },
  "language_info": {
   "codemirror_mode": {
    "name": "ipython",
    "version": 3
   },
   "file_extension": ".py",
   "mimetype": "text/x-python",
   "name": "python",
   "nbconvert_exporter": "python",
   "pygments_lexer": "ipython3",
   "version": "3.8.5"
  }
 },
 "nbformat": 4,
 "nbformat_minor": 4
}
