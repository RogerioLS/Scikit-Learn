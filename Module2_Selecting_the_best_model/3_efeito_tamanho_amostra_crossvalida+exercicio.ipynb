{
 "cells": [
  {
   "cell_type": "markdown",
   "metadata": {},
   "source": [
    "# Efeito do tamanho da amostra na validação cruzada\n",
    "\n",
    "No caderno anterior, apresentamos a estrutura geral de validação cruzada\n",
    "e como avaliar se um modelo preditivo é underfiting, overfitting ou\n",
    "generalizando. Além desses aspectos, também é importante entender como\n",
    "os diferentes erros são influenciados pelo número de amostras disponíveis.\n",
    "\n",
    "Neste caderno, mostraremos esse aspecto observando a variabilidade de\n",
    "os diferentes erros.\n",
    "\n",
    "Vamos primeiro carregar os dados e criar o mesmo modelo do anterior\n",
    "caderno."
   ]
  },
  {
   "cell_type": "code",
   "execution_count": 1,
   "metadata": {},
   "outputs": [],
   "source": [
    "from sklearn.datasets import fetch_california_housing\n",
    "\n",
    "housing = fetch_california_housing(as_frame=True)\n",
    "data, target = housing.data, housing.target\n",
    "target *= 100  # rescale the target in k$"
   ]
  },
  {
   "cell_type": "markdown",
   "metadata": {},
   "source": [
    "<div class=\"admonition note alert alert-info\">\n",
    "<p class=\"first admonition-title\" style=\"font-weight: bold;\">Note</p>\n",
    "<p class=\"last\">Se você quiser uma visão geral mais aprofundada sobre este conjunto de dados, pode consultar o\n",
    "Appendix - Datasets seção de descrição no final deste MOOC.</p>\n",
    "</div>"
   ]
  },
  {
   "cell_type": "code",
   "execution_count": 2,
   "metadata": {},
   "outputs": [],
   "source": [
    "from sklearn.tree import DecisionTreeRegressor\n",
    "\n",
    "regressor = DecisionTreeRegressor()"
   ]
  },
  {
   "cell_type": "markdown",
   "metadata": {},
   "source": [
    "## Curva de aprendizado\n",
    "\n",
    "Para entender o impacto do número de amostras disponíveis para treinamento em\n",
    "o desempenho estatístico de um modelo preditivo, é possível\n",
    "reduzir sinteticamente o número de amostras usadas para treinar o modelo preditivo\n",
    "e verifique os erros de treinamento e teste.\n",
    "\n",
    "Portanto, podemos variar o número de amostras no conjunto de treinamento e repetir\n",
    "o experimento. As pontuações de treinamento e teste podem ser plotadas de forma semelhante a\n",
    "a curva de validação, mas em vez de variar um hiperparâmetro, variamos o\n",
    "número de amostras de treinamento. Essa curva é chamada de ** curva de aprendizado **.\n",
    "\n",
    "Ele fornece informações sobre o benefício de adicionar novos exemplos de treinamento\n",
    "para melhorar o desempenho estatístico de um modelo.\n",
    "\n",
    "Vamos calcular a curva de aprendizado para uma árvore de decisão e variar o\n",
    "proporção do treinamento definido de 10% a 100%."
   ]
  },
  {
   "cell_type": "code",
   "execution_count": 3,
   "metadata": {},
   "outputs": [
    {
     "data": {
      "text/plain": [
       "array([0.1  , 0.325, 0.55 , 0.775, 1.   ])"
      ]
     },
     "execution_count": 3,
     "metadata": {},
     "output_type": "execute_result"
    }
   ],
   "source": [
    "import numpy as np\n",
    "train_sizes = np.linspace(0.1, 1.0, num=5, endpoint=True)\n",
    "train_sizes"
   ]
  },
  {
   "cell_type": "markdown",
   "metadata": {},
   "source": [
    "Usaremos uma validação cruzada `ShuffleSplit` para avaliar nosso modelo preditivo."
   ]
  },
  {
   "cell_type": "code",
   "execution_count": 4,
   "metadata": {},
   "outputs": [],
   "source": [
    "from sklearn.model_selection import ShuffleSplit\n",
    "\n",
    "cv = ShuffleSplit(n_splits=30, test_size=0.2)"
   ]
  },
  {
   "cell_type": "markdown",
   "metadata": {},
   "source": [
    "Agora, estamos prontos para realizar o experimento."
   ]
  },
  {
   "cell_type": "code",
   "execution_count": 5,
   "metadata": {},
   "outputs": [],
   "source": [
    "from sklearn.model_selection import learning_curve\n",
    "\n",
    "results = learning_curve(\n",
    "    regressor, data, target, train_sizes=train_sizes, cv=cv,\n",
    "    scoring=\"neg_mean_absolute_error\", n_jobs=2)\n",
    "train_size, train_scores, test_scores = results[:3]\n",
    "# Convert the scores into errors\n",
    "train_errors, test_errors = -train_scores, -test_scores"
   ]
  },
  {
   "cell_type": "markdown",
   "metadata": {},
   "source": [
    "Agora, podemos traçar a curva."
   ]
  },
  {
   "cell_type": "code",
   "execution_count": 7,
   "metadata": {},
   "outputs": [
    {
     "data": {
      "image/png": "[encoded data removed]",
      "text/plain": [
       "<Figure size 432x288 with 1 Axes>"
      ]
     },
     "metadata": {
      "needs_background": "light"
     },
     "output_type": "display_data"
    }
   ],
   "source": [
    "import matplotlib.pyplot as plt\n",
    "\n",
    "plt.errorbar(train_size, train_errors.mean(axis=1),\n",
    "             yerr=train_errors.std(axis=1), label=\"Training error\")\n",
    "plt.errorbar(train_size, test_errors.mean(axis=1),\n",
    "             yerr=test_errors.std(axis=1), label=\"Testing error\")\n",
    "plt.legend()\n",
    "\n",
    "plt.xscale(\"log\")\n",
    "plt.xlabel(\"Number of samples in the training set\")\n",
    "plt.ylabel(\"Mean absolute error (k$)\")\n",
    "_ = plt.title(\"Learning curve for decision tree\")"
   ]
  },
  {
   "cell_type": "markdown",
   "metadata": {},
   "source": [
    "Olhando apenas para o erro de treinamento, vemos que obtemos um erro de 0 k $. Isto\n",
    "significa que o modelo treinado (ou seja, árvore de decisão) está claramente superando o\n",
    "dados de treinamento.\n",
    "\n",
    "Olhando apenas para o erro de teste, observamos que quanto mais amostras são\n",
    "adicionado ao conjunto de treinamento, menor será o erro de teste. Nós também\n",
    "estão procurando o platô do erro de teste para o qual não há\n",
    "benefício em adicionar mais amostras ou avaliar o ganho potencial de adicionar\n",
    "mais amostras no conjunto de treinamento.\n",
    "\n",
    "Se atingirmos um platô e adicionar novas amostras no conjunto de treinamento não\n",
    "reduzir o erro de teste, podemos ter alcançado a taxa de erro de Bayes usando o\n",
    "modelo disponível. Usar um modelo mais complexo pode ser a única possibilidade de\n",
    "reduza ainda mais o erro de teste.\n",
    "\n",
    "## Resumo\n",
    "\n",
    "No caderno, aprendemos:\n",
    "\n",
    "* a influência do número de amostras em um conjunto de dados, especialmente no\n",
    "  variabilidade dos erros relatados ao executar a validação cruzada;\n",
    "* sobre a curva de aprendizado que é uma representação visual da capacidade\n",
    "  de um modelo para melhorar adicionando novas amostras."
   ]
  },
  {
   "cell_type": "markdown",
   "metadata": {},
   "source": [
    "# 📝 Exercício M2.01\n",
    "\n",
    "O objetivo deste exercício é fazer os seguintes experimentos:\n",
    "\n",
    "* treinar e testar um classificador de máquina de vetor de suporte por meio de\n",
    "  validação cruzada;\n",
    "* estudar o efeito do parâmetro gama deste classificador usando um\n",
    "  curva de validação;\n",
    "* estudar se seria útil em termos de classificação se pudéssemos adicionar novos\n",
    "  amostras no conjunto de dados usando uma curva de aprendizado.\n",
    "\n",
    "Para fazer esses experimentos, primeiro carregaremos o conjunto de dados de transfusão de sangue."
   ]
  },
  {
   "cell_type": "markdown",
   "metadata": {},
   "source": [
    "<div class=\"admonition note alert alert-info\">\n",
    "<p class=\"first admonition-title\" style=\"font-weight: bold;\">Note</p>\n",
    "<p class=\"last\">Se você quiser uma visão geral mais aprofundada sobre este conjunto de dados, pode consultar o\n",
    "Appendix - Datasets seção de descrição no final deste MOOC.</p>\n",
    "</div>"
   ]
  },
  {
   "cell_type": "code",
   "execution_count": null,
   "metadata": {},
   "outputs": [],
   "source": [
    "import pandas as pd\n",
    "from urllib.request import urlretrieve "
   ]
  },
  {
   "cell_type": "code",
   "execution_count": 12,
   "metadata": {},
   "outputs": [
    {
     "data": {
      "text/plain": [
       "('C:/Users/Rogerio Lopes/Desktop/Rogerio/MachineLearningWithCreatorsScikitLearn/Module2_Selecting_the_best_model/blood_transfusion.csv',\n",
       " <http.client.HTTPMessage at 0x22d42ba1f40>)"
      ]
     },
     "execution_count": 12,
     "metadata": {},
     "output_type": "execute_result"
    }
   ],
   "source": [
    "url = 'https://raw.githubusercontent.com/INRIA/scikit-learn-mooc/end-of-v1.0-session/datasets/blood_transfusion.csv'\n",
    "urlretrieve(url, 'C:/Users/Rogerio Lopes/Desktop/Rogerio/MachineLearningWithCreatorsScikitLearn/Module2_Selecting_the_best_model/blood_transfusion.csv')"
   ]
  },
  {
   "cell_type": "code",
   "execution_count": 14,
   "metadata": {},
   "outputs": [
    {
     "data": {
      "text/html": [
       "<div>\n",
       "<style scoped>\n",
       "    .dataframe tbody tr th:only-of-type {\n",
       "        vertical-align: middle;\n",
       "    }\n",
       "\n",
       "    .dataframe tbody tr th {\n",
       "        vertical-align: top;\n",
       "    }\n",
       "\n",
       "    .dataframe thead th {\n",
       "        text-align: right;\n",
       "    }\n",
       "</style>\n",
       "<table border=\"1\" class=\"dataframe\">\n",
       "  <thead>\n",
       "    <tr style=\"text-align: right;\">\n",
       "      <th></th>\n",
       "      <th>Recency</th>\n",
       "      <th>Frequency</th>\n",
       "      <th>Monetary</th>\n",
       "      <th>Time</th>\n",
       "      <th>Class</th>\n",
       "    </tr>\n",
       "  </thead>\n",
       "  <tbody>\n",
       "    <tr>\n",
       "      <th>0</th>\n",
       "      <td>2</td>\n",
       "      <td>50</td>\n",
       "      <td>12500</td>\n",
       "      <td>98</td>\n",
       "      <td>donated</td>\n",
       "    </tr>\n",
       "    <tr>\n",
       "      <th>1</th>\n",
       "      <td>0</td>\n",
       "      <td>13</td>\n",
       "      <td>3250</td>\n",
       "      <td>28</td>\n",
       "      <td>donated</td>\n",
       "    </tr>\n",
       "    <tr>\n",
       "      <th>2</th>\n",
       "      <td>1</td>\n",
       "      <td>16</td>\n",
       "      <td>4000</td>\n",
       "      <td>35</td>\n",
       "      <td>donated</td>\n",
       "    </tr>\n",
       "  </tbody>\n",
       "</table>\n",
       "</div>"
      ],
      "text/plain": [
       "   Recency  Frequency  Monetary  Time    Class\n",
       "0        2         50     12500    98  donated\n",
       "1        0         13      3250    28  donated\n",
       "2        1         16      4000    35  donated"
      ]
     },
     "execution_count": 14,
     "metadata": {},
     "output_type": "execute_result"
    }
   ],
   "source": [
    "blood_transfusion = pd.read_csv(\"blood_transfusion.csv\")\n",
    "blood_transfusion.head(3)"
   ]
  },
  {
   "cell_type": "code",
   "execution_count": 15,
   "metadata": {},
   "outputs": [],
   "source": [
    "data = blood_transfusion.drop(columns=\"Class\")\n",
    "target = blood_transfusion[\"Class\"]"
   ]
  },
  {
   "cell_type": "markdown",
   "metadata": {},
   "source": [
    "Usaremos um classificador de máquina de vetor de suporte (SVM). Em sua forma mais simples\n",
    "forma, um classificador SVM é um classificador linear que se comporta de forma semelhante a um\n",
    "regressão logística. Na verdade, a otimização usada para encontrar o ótimo\n",
    "pesos do modelo linear são diferentes, mas não precisamos saber esses\n",
    "detalhes para o exercício.\n",
    "\n",
    "Além disso, este classificador pode se tornar mais flexível / expressivo usando um\n",
    "o chamado kernel que faz o modelo se torna não linear. Novamente, nenhum requisito\n",
    "em relação à matemática é necessário para realizar este exercício.\n",
    "\n",
    "Usaremos um kernel RBF onde um parâmetro `gamma` permite ajustar o\n",
    "flexibilidade do modelo.\n",
    "\n",
    "Primeiro, vamos criar um pipeline preditivo feito de:\n",
    "\n",
    "* a [`sklearn.preprocessing.StandardScaler`](https://scikit-learn.org/stable/modules/generated/sklearn.preprocessing.StandardScaler.html)\n",
    "  with default parameter;\n",
    "* a [`sklearn.svm.SVC`](https://scikit-learn.org/stable/modules/generated/sklearn.svm.SVC.html)\n",
    "\n",
    "onde o parâmetro `kernel` pode ser definido como` \"rbf\" `. Observe que este é o\n",
    "  padrão."
   ]
  },
  {
   "cell_type": "code",
   "execution_count": 16,
   "metadata": {},
   "outputs": [
    {
     "data": {
      "text/html": [
       "<style>div.sk-top-container {color: black;background-color: white;}div.sk-toggleable {background-color: white;}label.sk-toggleable__label {cursor: pointer;display: block;width: 100%;margin-bottom: 0;padding: 0.2em 0.3em;box-sizing: border-box;text-align: center;}div.sk-toggleable__content {max-height: 0;max-width: 0;overflow: hidden;text-align: left;background-color: #f0f8ff;}div.sk-toggleable__content pre {margin: 0.2em;color: black;border-radius: 0.25em;background-color: #f0f8ff;}input.sk-toggleable__control:checked~div.sk-toggleable__content {max-height: 200px;max-width: 100%;overflow: auto;}div.sk-estimator input.sk-toggleable__control:checked~label.sk-toggleable__label {background-color: #d4ebff;}div.sk-label input.sk-toggleable__control:checked~label.sk-toggleable__label {background-color: #d4ebff;}input.sk-hidden--visually {border: 0;clip: rect(1px 1px 1px 1px);clip: rect(1px, 1px, 1px, 1px);height: 1px;margin: -1px;overflow: hidden;padding: 0;position: absolute;width: 1px;}div.sk-estimator {font-family: monospace;background-color: #f0f8ff;margin: 0.25em 0.25em;border: 1px dotted black;border-radius: 0.25em;box-sizing: border-box;}div.sk-estimator:hover {background-color: #d4ebff;}div.sk-parallel-item::after {content: \"\";width: 100%;border-bottom: 1px solid gray;flex-grow: 1;}div.sk-label:hover label.sk-toggleable__label {background-color: #d4ebff;}div.sk-serial::before {content: \"\";position: absolute;border-left: 1px solid gray;box-sizing: border-box;top: 2em;bottom: 0;left: 50%;}div.sk-serial {display: flex;flex-direction: column;align-items: center;background-color: white;}div.sk-item {z-index: 1;}div.sk-parallel {display: flex;align-items: stretch;justify-content: center;background-color: white;}div.sk-parallel-item {display: flex;flex-direction: column;position: relative;background-color: white;}div.sk-parallel-item:first-child::after {align-self: flex-end;width: 50%;}div.sk-parallel-item:last-child::after {align-self: flex-start;width: 50%;}div.sk-parallel-item:only-child::after {width: 0;}div.sk-dashed-wrapped {border: 1px dashed gray;margin: 0.2em;box-sizing: border-box;padding-bottom: 0.1em;background-color: white;position: relative;}div.sk-label label {font-family: monospace;font-weight: bold;background-color: white;display: inline-block;line-height: 1.2em;}div.sk-label-container {position: relative;z-index: 2;text-align: center;}div.sk-container {display: inline-block;position: relative;}</style><div class=\"sk-top-container\"><div class=\"sk-container\"><div class=\"sk-item sk-dashed-wrapped\"><div class=\"sk-label-container\"><div class=\"sk-label sk-toggleable\"><input class=\"sk-toggleable__control sk-hidden--visually\" id=\"7291b2dd-caa3-4802-98a0-68a7570ff364\" type=\"checkbox\" ><label class=\"sk-toggleable__label\" for=\"7291b2dd-caa3-4802-98a0-68a7570ff364\">Pipeline</label><div class=\"sk-toggleable__content\"><pre>Pipeline(steps=[('standardscaler', StandardScaler()), ('svc', SVC())])</pre></div></div></div><div class=\"sk-serial\"><div class=\"sk-item\"><div class=\"sk-estimator sk-toggleable\"><input class=\"sk-toggleable__control sk-hidden--visually\" id=\"b6cb6985-db2a-449c-ab6d-65d1f94a49b6\" type=\"checkbox\" ><label class=\"sk-toggleable__label\" for=\"b6cb6985-db2a-449c-ab6d-65d1f94a49b6\">StandardScaler</label><div class=\"sk-toggleable__content\"><pre>StandardScaler()</pre></div></div></div><div class=\"sk-item\"><div class=\"sk-estimator sk-toggleable\"><input class=\"sk-toggleable__control sk-hidden--visually\" id=\"3fec048d-9efd-42c5-a8ec-d9a1112b232c\" type=\"checkbox\" ><label class=\"sk-toggleable__label\" for=\"3fec048d-9efd-42c5-a8ec-d9a1112b232c\">SVC</label><div class=\"sk-toggleable__content\"><pre>SVC()</pre></div></div></div></div></div></div></div>"
      ],
      "text/plain": [
       "Pipeline(steps=[('standardscaler', StandardScaler()), ('svc', SVC())])"
      ]
     },
     "execution_count": 16,
     "metadata": {},
     "output_type": "execute_result"
    }
   ],
   "source": [
    "# Write your code here.\n",
    "from sklearn import set_config\n",
    "set_config(display='diagram')\n",
    "from sklearn.pipeline import make_pipeline\n",
    "from sklearn.preprocessing import StandardScaler\n",
    "from sklearn.svm import SVC\n",
    "\n",
    "model = make_pipeline(StandardScaler(), SVC())\n",
    "model"
   ]
  },
  {
   "cell_type": "markdown",
   "metadata": {},
   "source": [
    "Avalie o desempenho estatístico do seu modelo por validação cruzada com um\n",
    "Esquema `ShuffleSplit`. Assim, você pode usar\n",
    "[`sklearn.model_selection.cross_validate`](https://scikit-learn.org/stable/modules/generated/sklearn.model_selection.cross_validate.html)\n",
    "e passe um [`sklearn.model_selection.ShuffleSplit`](https://scikit-learn.org/stable/modules/generated/sklearn.model_selection.ShuffleSplit.html)\n",
    "para o parâmetro `cv`. Apenas corrija o `random_state = 0` no` ShuffleSplit`\n",
    "e deixe os outros parâmetros para o padrão."
   ]
  },
  {
   "cell_type": "code",
   "execution_count": 17,
   "metadata": {},
   "outputs": [
    {
     "data": {
      "text/html": [
       "<div>\n",
       "<style scoped>\n",
       "    .dataframe tbody tr th:only-of-type {\n",
       "        vertical-align: middle;\n",
       "    }\n",
       "\n",
       "    .dataframe tbody tr th {\n",
       "        vertical-align: top;\n",
       "    }\n",
       "\n",
       "    .dataframe thead th {\n",
       "        text-align: right;\n",
       "    }\n",
       "</style>\n",
       "<table border=\"1\" class=\"dataframe\">\n",
       "  <thead>\n",
       "    <tr style=\"text-align: right;\">\n",
       "      <th></th>\n",
       "      <th>fit_time</th>\n",
       "      <th>score_time</th>\n",
       "      <th>test_score</th>\n",
       "    </tr>\n",
       "  </thead>\n",
       "  <tbody>\n",
       "    <tr>\n",
       "      <th>0</th>\n",
       "      <td>0.014999</td>\n",
       "      <td>0.004000</td>\n",
       "      <td>0.680000</td>\n",
       "    </tr>\n",
       "    <tr>\n",
       "      <th>1</th>\n",
       "      <td>0.014999</td>\n",
       "      <td>0.003062</td>\n",
       "      <td>0.746667</td>\n",
       "    </tr>\n",
       "    <tr>\n",
       "      <th>2</th>\n",
       "      <td>0.016999</td>\n",
       "      <td>0.004000</td>\n",
       "      <td>0.786667</td>\n",
       "    </tr>\n",
       "    <tr>\n",
       "      <th>3</th>\n",
       "      <td>0.015999</td>\n",
       "      <td>0.004000</td>\n",
       "      <td>0.800000</td>\n",
       "    </tr>\n",
       "    <tr>\n",
       "      <th>4</th>\n",
       "      <td>0.014501</td>\n",
       "      <td>0.003494</td>\n",
       "      <td>0.746667</td>\n",
       "    </tr>\n",
       "    <tr>\n",
       "      <th>5</th>\n",
       "      <td>0.013999</td>\n",
       "      <td>0.002999</td>\n",
       "      <td>0.786667</td>\n",
       "    </tr>\n",
       "    <tr>\n",
       "      <th>6</th>\n",
       "      <td>0.011995</td>\n",
       "      <td>0.004002</td>\n",
       "      <td>0.800000</td>\n",
       "    </tr>\n",
       "    <tr>\n",
       "      <th>7</th>\n",
       "      <td>0.011999</td>\n",
       "      <td>0.003002</td>\n",
       "      <td>0.826667</td>\n",
       "    </tr>\n",
       "    <tr>\n",
       "      <th>8</th>\n",
       "      <td>0.011994</td>\n",
       "      <td>0.003000</td>\n",
       "      <td>0.746667</td>\n",
       "    </tr>\n",
       "    <tr>\n",
       "      <th>9</th>\n",
       "      <td>0.012843</td>\n",
       "      <td>0.003000</td>\n",
       "      <td>0.733333</td>\n",
       "    </tr>\n",
       "  </tbody>\n",
       "</table>\n",
       "</div>"
      ],
      "text/plain": [
       "   fit_time  score_time  test_score\n",
       "0  0.014999    0.004000    0.680000\n",
       "1  0.014999    0.003062    0.746667\n",
       "2  0.016999    0.004000    0.786667\n",
       "3  0.015999    0.004000    0.800000\n",
       "4  0.014501    0.003494    0.746667\n",
       "5  0.013999    0.002999    0.786667\n",
       "6  0.011995    0.004002    0.800000\n",
       "7  0.011999    0.003002    0.826667\n",
       "8  0.011994    0.003000    0.746667\n",
       "9  0.012843    0.003000    0.733333"
      ]
     },
     "execution_count": 17,
     "metadata": {},
     "output_type": "execute_result"
    }
   ],
   "source": [
    "# Write your code here.\n",
    "from sklearn.model_selection import cross_validate, ShuffleSplit\n",
    "\n",
    "cv = ShuffleSplit(random_state=0)\n",
    "cv_results = cross_validate(model, data, target, cv=cv, n_jobs=2)\n",
    "cv_results = pd.DataFrame(cv_results)\n",
    "cv_results"
   ]
  },
  {
   "cell_type": "code",
   "execution_count": 18,
   "metadata": {},
   "outputs": [
    {
     "name": "stdout",
     "output_type": "stream",
     "text": [
      "Accuracy score of our model:\n",
      "0.765 +/- 0.043\n"
     ]
    }
   ],
   "source": [
    "print(\n",
    "    f\"Accuracy score of our model:\\n\"\n",
    "    f\"{cv_results['test_score'].mean():.3f} +/- \"\n",
    "    f\"{cv_results['test_score'].std():.3f}\"\n",
    ")"
   ]
  },
  {
   "cell_type": "markdown",
   "metadata": {},
   "source": [
    "Como mencionado anteriormente, o parâmetro `gamma` é um dos parâmetros\n",
    "controlar sub / sobreajuste na máquina de vetores de suporte com um kernel RBF.\n",
    "\n",
    "Calcule a curva de validação\n",
    "(usando [`sklearn.model_selection.validation_curve`](https://scikit-learn.org/stable/modules/generated/sklearn.model_selection.validation_curve.html))\n",
    "para avaliar o efeito do parâmetro `gamma`. Você pode variar seu valor\n",
    "entre `10e-3` e` 10e2` gerando amostras em uma escala logarítmica.\n",
    "Assim, você pode usar `np.logspace (-3, 2, num = 30)`.\n",
    "\n",
    "Uma vez que estamos manipulando um `Pipeline`, o nome do parâmetro será definido como\n",
    "`svc__gamma` em vez de apenas` gamma`. Você pode recuperar o nome do parâmetro\n",
    "usando `model.get_params (). keys ()`. Iremos entrar em detalhes sobre\n",
    "acessar e definir hiperparâmetros na próxima seção."
   ]
  },
  {
   "cell_type": "code",
   "execution_count": 19,
   "metadata": {},
   "outputs": [],
   "source": [
    "# Write your code here.\n",
    "import numpy as np\n",
    "from sklearn.model_selection import validation_curve\n",
    "\n",
    "gammas = np.logspace(-3, 2, num=30)\n",
    "param_name = \"svc__gamma\"\n",
    "train_scores, test_scores = validation_curve(\n",
    "    model, data, target, param_name=param_name, param_range=gammas, cv=cv,\n",
    "    n_jobs=2)"
   ]
  },
  {
   "cell_type": "markdown",
   "metadata": {},
   "source": [
    "Trace a curva de validação para as pontuações do trem e do teste."
   ]
  },
  {
   "cell_type": "code",
   "execution_count": 20,
   "metadata": {},
   "outputs": [
    {
     "data": {
      "image/png": "[encoded data removed]",
      "text/plain": [
       "<Figure size 432x288 with 1 Axes>"
      ]
     },
     "metadata": {
      "needs_background": "light"
     },
     "output_type": "display_data"
    }
   ],
   "source": [
    "import matplotlib.pyplot as plt\n",
    "plt.errorbar(gammas, train_scores.mean(axis=1),\n",
    "             yerr=train_scores.std(axis=1), label='Training score')\n",
    "plt.errorbar(gammas, test_scores.mean(axis=1),\n",
    "             yerr=test_scores.std(axis=1), label='Testing score')\n",
    "plt.legend()\n",
    "\n",
    "plt.xscale(\"log\")\n",
    "plt.xlabel(r\"Value of hyperparameter $\\gamma$\")\n",
    "plt.ylabel(\"Accuracy score\")\n",
    "_ = plt.title(\"Validation score of support vector machine\")"
   ]
  },
  {
   "cell_type": "markdown",
   "metadata": {},
   "source": [
    "Olhando para a curva, podemos identificar claramente o regime de sobreajuste do classificador SVC quando gama> 1. A melhor configuração é em torno de gama = 1, enquanto para gama <1, não é muito claro se o classificador está subajustado, mas a pontuação do teste é pior do que para gama = 1.\n",
    "\n",
    "Agora, você pode realizar uma análise para verificar se está adicionando novas amostras ao\n",
    "conjunto de dados pode ajudar nosso modelo a generalizar melhor. Calcule a curva de aprendizado\n",
    "(usando [`sklearn.model_selection.learning_curve`](https://scikit-learn.org/stable/modules/generated/sklearn.model_selection.learning_curve.html))\n",
    "calculando as pontuações do trem e do teste para diferentes tamanhos de conjunto de dados de treinamento.\n",
    "Trace as pontuações do trem e do teste em relação ao número de amostras."
   ]
  },
  {
   "cell_type": "code",
   "execution_count": 21,
   "metadata": {},
   "outputs": [],
   "source": [
    "from sklearn.model_selection import learning_curve\n",
    "\n",
    "train_sizes = np.linspace(0.1, 1, num=10)\n",
    "results = learning_curve(\n",
    "    model, data, target, train_sizes=train_sizes, cv=cv, n_jobs=2)\n",
    "train_size, train_scores, test_scores = results[:3]"
   ]
  },
  {
   "cell_type": "code",
   "execution_count": 22,
   "metadata": {},
   "outputs": [
    {
     "data": {
      "image/png": "[encoded data removed]",
      "text/plain": [
       "<Figure size 432x288 with 1 Axes>"
      ]
     },
     "metadata": {
      "needs_background": "light"
     },
     "output_type": "display_data"
    }
   ],
   "source": [
    "plt.errorbar(train_size, train_scores.mean(axis=1),\n",
    "             yerr=train_scores.std(axis=1), label='Training score')\n",
    "plt.errorbar(train_size, test_scores.mean(axis=1),\n",
    "             yerr=test_scores.std(axis=1), label='Testing score')\n",
    "plt.legend()\n",
    "\n",
    "plt.xlabel(\"Number of samples in the training set\")\n",
    "plt.ylabel(\"Accuracy\")\n",
    "_ = plt.title(\"Learning curve for support vector machine\")"
   ]
  }
 ],
 "metadata": {
  "kernelspec": {
   "display_name": "Python 3",
   "language": "python",
   "name": "python3"
  },
  "language_info": {
   "codemirror_mode": {
    "name": "ipython",
    "version": 3
   },
   "file_extension": ".py",
   "mimetype": "text/x-python",
   "name": "python",
   "nbconvert_exporter": "python",
   "pygments_lexer": "ipython3",
   "version": "3.8.5"
  }
 },
 "nbformat": 4,
 "nbformat_minor": 4
}
