{
 "cells": [
  {
   "cell_type": "markdown",
   "metadata": {},
   "source": [
    "# Hyperparameter tuning\n",
    "\n",
    "Na seção anterior, não discutimos os parâmetros de floresta aleatória e aumento de gradiente. No entanto, há algumas coisas que você deve ter em mente ao configurá-los.\n",
    "\n",
    "Este bloco de notas fornece informações cruciais sobre como definir os hiperparâmetros dos modelos de árvore de decisão de aumento de gradiente e floresta aleatória."
   ]
  },
  {
   "cell_type": "markdown",
   "metadata": {},
   "source": [
    "<div class=\"admonition tip alert alert-warning\">\n",
    "<p class=\"first admonition-title\" style=\"font-weight: bold;\">Caution!</p>\n",
    "<p>Por motivos de clareza, nenhuma cross-validation será usada para estimar o erro de teste. Estamos apenas mostrando o efeito dos parâmetros no conjunto de validação do que deveria ser a cross-validation interna.</p>"
   ]
  },
  {
   "cell_type": "markdown",
   "metadata": {},
   "source": [
    "### Random Forest\n",
    "\n",
    "O parâmetro principal para ajustar para floresta aleatória é o parâmetro `n_estimators`. Em geral, quanto mais árvores na floresta, melhor será o desempenho de generalização. No entanto, isso diminuirá o tempo de adaptação e previsão. O objetivo é equilibrar o tempo de computação e o desempenho de generalização ao definir o número de estimadores ao colocar esse aluno em produção.\n",
    "\n",
    "O parâmetro `max_depth` também pode ser ajustado. Às vezes, não há necessidade de árvores totalmente crescidas. No entanto, esteja ciente de que, com floresta aleatória, as árvores são geralmente profundas, pois estamos procurando ajustar os alunos nas amostras de bootstrap, pois isso será atenuado combinando-as. A montagem de árvores mal ajustadas (ou seja, árvores rasas) também pode levar a uma floresta mal ajustada."
   ]
  },
  {
   "cell_type": "code",
   "execution_count": 1,
   "metadata": {},
   "outputs": [],
   "source": [
    "from sklearn.datasets import fetch_california_housing\n",
    "from sklearn.model_selection import train_test_split\n",
    "\n",
    "data, target = fetch_california_housing(return_X_y=True, as_frame=True)\n",
    "target *= 100  # rescale the target in k$\n",
    "data_train, data_test, target_train, target_test = train_test_split(\n",
    "    data, target, random_state=0)"
   ]
  },
  {
   "cell_type": "code",
   "execution_count": 2,
   "metadata": {},
   "outputs": [
    {
     "data": {
      "text/html": [
       "<div>\n",
       "<style scoped>\n",
       "    .dataframe tbody tr th:only-of-type {\n",
       "        vertical-align: middle;\n",
       "    }\n",
       "\n",
       "    .dataframe tbody tr th {\n",
       "        vertical-align: top;\n",
       "    }\n",
       "\n",
       "    .dataframe thead th {\n",
       "        text-align: right;\n",
       "    }\n",
       "</style>\n",
       "<table border=\"1\" class=\"dataframe\">\n",
       "  <thead>\n",
       "    <tr style=\"text-align: right;\">\n",
       "      <th></th>\n",
       "      <th>param_n_estimators</th>\n",
       "      <th>param_max_depth</th>\n",
       "      <th>mean_test_score</th>\n",
       "      <th>rank_test_score</th>\n",
       "    </tr>\n",
       "  </thead>\n",
       "  <tbody>\n",
       "    <tr>\n",
       "      <th>8</th>\n",
       "      <td>30</td>\n",
       "      <td>None</td>\n",
       "      <td>34.491224</td>\n",
       "      <td>1</td>\n",
       "    </tr>\n",
       "    <tr>\n",
       "      <th>7</th>\n",
       "      <td>20</td>\n",
       "      <td>None</td>\n",
       "      <td>34.852569</td>\n",
       "      <td>2</td>\n",
       "    </tr>\n",
       "    <tr>\n",
       "      <th>6</th>\n",
       "      <td>10</td>\n",
       "      <td>None</td>\n",
       "      <td>35.997110</td>\n",
       "      <td>3</td>\n",
       "    </tr>\n",
       "    <tr>\n",
       "      <th>4</th>\n",
       "      <td>20</td>\n",
       "      <td>5</td>\n",
       "      <td>48.691969</td>\n",
       "      <td>4</td>\n",
       "    </tr>\n",
       "    <tr>\n",
       "      <th>5</th>\n",
       "      <td>30</td>\n",
       "      <td>5</td>\n",
       "      <td>48.719785</td>\n",
       "      <td>5</td>\n",
       "    </tr>\n",
       "    <tr>\n",
       "      <th>3</th>\n",
       "      <td>10</td>\n",
       "      <td>5</td>\n",
       "      <td>48.782024</td>\n",
       "      <td>6</td>\n",
       "    </tr>\n",
       "    <tr>\n",
       "      <th>2</th>\n",
       "      <td>30</td>\n",
       "      <td>3</td>\n",
       "      <td>56.941830</td>\n",
       "      <td>7</td>\n",
       "    </tr>\n",
       "    <tr>\n",
       "      <th>1</th>\n",
       "      <td>20</td>\n",
       "      <td>3</td>\n",
       "      <td>57.000582</td>\n",
       "      <td>8</td>\n",
       "    </tr>\n",
       "    <tr>\n",
       "      <th>0</th>\n",
       "      <td>10</td>\n",
       "      <td>3</td>\n",
       "      <td>57.337783</td>\n",
       "      <td>9</td>\n",
       "    </tr>\n",
       "  </tbody>\n",
       "</table>\n",
       "</div>"
      ],
      "text/plain": [
       "  param_n_estimators param_max_depth  mean_test_score  rank_test_score\n",
       "8                 30            None        34.491224                1\n",
       "7                 20            None        34.852569                2\n",
       "6                 10            None        35.997110                3\n",
       "4                 20               5        48.691969                4\n",
       "5                 30               5        48.719785                5\n",
       "3                 10               5        48.782024                6\n",
       "2                 30               3        56.941830                7\n",
       "1                 20               3        57.000582                8\n",
       "0                 10               3        57.337783                9"
      ]
     },
     "execution_count": 2,
     "metadata": {},
     "output_type": "execute_result"
    }
   ],
   "source": [
    "import pandas as pd\n",
    "from sklearn.model_selection import GridSearchCV\n",
    "from sklearn.ensemble import RandomForestRegressor\n",
    "\n",
    "param_grid = {\n",
    "    \"n_estimators\": [10, 20, 30],\n",
    "    \"max_depth\": [3, 5, None],\n",
    "}\n",
    "grid_search = GridSearchCV(\n",
    "    RandomForestRegressor(n_jobs=2), param_grid=param_grid,\n",
    "    scoring=\"neg_mean_absolute_error\", n_jobs=2,\n",
    ")\n",
    "grid_search.fit(data_train, target_train)\n",
    "\n",
    "columns = [f\"param_{name}\" for name in param_grid.keys()]\n",
    "columns += [\"mean_test_score\", \"rank_test_score\"]\n",
    "cv_results = pd.DataFrame(grid_search.cv_results_)\n",
    "cv_results[\"mean_test_score\"] = -cv_results[\"mean_test_score\"]\n",
    "cv_results[columns].sort_values(by=\"rank_test_score\")"
   ]
  },
  {
   "cell_type": "markdown",
   "metadata": {},
   "source": [
    "Podemos observar que em nossa pesquisa em grade, o maior `max_depth` junto com os maiores `n_estimators` levou ao melhor desempenho de generalização."
   ]
  },
  {
   "cell_type": "markdown",
   "metadata": {},
   "source": [
    "### Gradient-boosting decision trees\n",
    "\n",
    "Para o aumento de gradiente, os parâmetros são acoplados, portanto, não podemos mais definir os parâmetros um após o outro. Os parâmetros importantes são `n_estimators`, `max_depth` e `learning_rate`.\n",
    "\n",
    "Vamos primeiro discutir o parâmetro max_depth. Vimos na seção sobre aumento de gradiente que o algoritmo se ajusta ao erro da árvore anterior no conjunto. Assim, caber em árvores totalmente crescidas será prejudicial. Na verdade, a primeira árvore do conjunto se ajustaria perfeitamente (superadaptaria) aos dados e, portanto, nenhuma árvore subsequente seria necessária, uma vez que não haveria resíduos. Portanto, a árvore usada no aumento de gradiente deve ter uma profundidade baixa, normalmente entre 3 a 8 níveis. Ter alunos muito fracos em cada etapa ajudará a reduzir o sobreajuste.\n",
    "\n",
    "Com essa consideração em mente, quanto mais profundas as árvores, mais rápido os resíduos serão corrigidos e menos alunos serão necessários. Portanto, `n_estimators` deve ser aumentado se `max_depth` for menor.\n",
    "\n",
    "Finalmente, esquecemos o impacto do parâmetro `learning_rate` até agora. Ao ajustar os resíduos, gostaríamos que a árvore tentasse corrigir todos os erros possíveis ou apenas uma fração deles. A taxa de aprendizado permite que você controle esse comportamento. Um pequeno valor de taxa de aprendizagem corrige apenas os resíduos de muito poucas amostras. Se uma grande taxa de aprendizado for definida (por exemplo, 1), ajustaríamos os resíduos de todas as amostras. Portanto, com uma taxa de aprendizado muito baixa, precisaremos de mais estimadores para corrigir o erro geral. No entanto, uma taxa de aprendizagem muito grande tende a obter um conjunto superaquecido, semelhante a uma árvore com uma profundidade muito grande."
   ]
  },
  {
   "cell_type": "code",
   "execution_count": 3,
   "metadata": {},
   "outputs": [
    {
     "data": {
      "text/html": [
       "<div>\n",
       "<style scoped>\n",
       "    .dataframe tbody tr th:only-of-type {\n",
       "        vertical-align: middle;\n",
       "    }\n",
       "\n",
       "    .dataframe tbody tr th {\n",
       "        vertical-align: top;\n",
       "    }\n",
       "\n",
       "    .dataframe thead th {\n",
       "        text-align: right;\n",
       "    }\n",
       "</style>\n",
       "<table border=\"1\" class=\"dataframe\">\n",
       "  <thead>\n",
       "    <tr style=\"text-align: right;\">\n",
       "      <th></th>\n",
       "      <th>param_n_estimators</th>\n",
       "      <th>param_max_depth</th>\n",
       "      <th>param_learning_rate</th>\n",
       "      <th>mean_test_score</th>\n",
       "      <th>rank_test_score</th>\n",
       "    </tr>\n",
       "  </thead>\n",
       "  <tbody>\n",
       "    <tr>\n",
       "      <th>5</th>\n",
       "      <td>50</td>\n",
       "      <td>5</td>\n",
       "      <td>0.1</td>\n",
       "      <td>35.664653</td>\n",
       "      <td>1</td>\n",
       "    </tr>\n",
       "    <tr>\n",
       "      <th>11</th>\n",
       "      <td>50</td>\n",
       "      <td>3</td>\n",
       "      <td>1</td>\n",
       "      <td>36.703013</td>\n",
       "      <td>2</td>\n",
       "    </tr>\n",
       "    <tr>\n",
       "      <th>10</th>\n",
       "      <td>30</td>\n",
       "      <td>3</td>\n",
       "      <td>1</td>\n",
       "      <td>37.458088</td>\n",
       "      <td>3</td>\n",
       "    </tr>\n",
       "    <tr>\n",
       "      <th>13</th>\n",
       "      <td>30</td>\n",
       "      <td>5</td>\n",
       "      <td>1</td>\n",
       "      <td>39.056313</td>\n",
       "      <td>4</td>\n",
       "    </tr>\n",
       "    <tr>\n",
       "      <th>4</th>\n",
       "      <td>30</td>\n",
       "      <td>5</td>\n",
       "      <td>0.1</td>\n",
       "      <td>39.354899</td>\n",
       "      <td>5</td>\n",
       "    </tr>\n",
       "    <tr>\n",
       "      <th>12</th>\n",
       "      <td>10</td>\n",
       "      <td>5</td>\n",
       "      <td>1</td>\n",
       "      <td>39.450557</td>\n",
       "      <td>6</td>\n",
       "    </tr>\n",
       "    <tr>\n",
       "      <th>14</th>\n",
       "      <td>50</td>\n",
       "      <td>5</td>\n",
       "      <td>1</td>\n",
       "      <td>39.730580</td>\n",
       "      <td>7</td>\n",
       "    </tr>\n",
       "    <tr>\n",
       "      <th>2</th>\n",
       "      <td>50</td>\n",
       "      <td>3</td>\n",
       "      <td>0.1</td>\n",
       "      <td>40.602042</td>\n",
       "      <td>8</td>\n",
       "    </tr>\n",
       "    <tr>\n",
       "      <th>9</th>\n",
       "      <td>10</td>\n",
       "      <td>3</td>\n",
       "      <td>1</td>\n",
       "      <td>41.602175</td>\n",
       "      <td>9</td>\n",
       "    </tr>\n",
       "    <tr>\n",
       "      <th>7</th>\n",
       "      <td>30</td>\n",
       "      <td>None</td>\n",
       "      <td>0.1</td>\n",
       "      <td>45.588320</td>\n",
       "      <td>10</td>\n",
       "    </tr>\n",
       "    <tr>\n",
       "      <th>1</th>\n",
       "      <td>30</td>\n",
       "      <td>3</td>\n",
       "      <td>0.1</td>\n",
       "      <td>45.756084</td>\n",
       "      <td>11</td>\n",
       "    </tr>\n",
       "    <tr>\n",
       "      <th>8</th>\n",
       "      <td>50</td>\n",
       "      <td>None</td>\n",
       "      <td>0.1</td>\n",
       "      <td>45.863965</td>\n",
       "      <td>12</td>\n",
       "    </tr>\n",
       "    <tr>\n",
       "      <th>17</th>\n",
       "      <td>50</td>\n",
       "      <td>None</td>\n",
       "      <td>1</td>\n",
       "      <td>47.245184</td>\n",
       "      <td>13</td>\n",
       "    </tr>\n",
       "    <tr>\n",
       "      <th>16</th>\n",
       "      <td>30</td>\n",
       "      <td>None</td>\n",
       "      <td>1</td>\n",
       "      <td>47.305145</td>\n",
       "      <td>14</td>\n",
       "    </tr>\n",
       "    <tr>\n",
       "      <th>15</th>\n",
       "      <td>10</td>\n",
       "      <td>None</td>\n",
       "      <td>1</td>\n",
       "      <td>47.519112</td>\n",
       "      <td>15</td>\n",
       "    </tr>\n",
       "    <tr>\n",
       "      <th>6</th>\n",
       "      <td>10</td>\n",
       "      <td>None</td>\n",
       "      <td>0.1</td>\n",
       "      <td>51.961816</td>\n",
       "      <td>16</td>\n",
       "    </tr>\n",
       "    <tr>\n",
       "      <th>3</th>\n",
       "      <td>10</td>\n",
       "      <td>5</td>\n",
       "      <td>0.1</td>\n",
       "      <td>56.354543</td>\n",
       "      <td>17</td>\n",
       "    </tr>\n",
       "    <tr>\n",
       "      <th>0</th>\n",
       "      <td>10</td>\n",
       "      <td>3</td>\n",
       "      <td>0.1</td>\n",
       "      <td>62.270268</td>\n",
       "      <td>18</td>\n",
       "    </tr>\n",
       "  </tbody>\n",
       "</table>\n",
       "</div>"
      ],
      "text/plain": [
       "   param_n_estimators param_max_depth param_learning_rate  mean_test_score  \\\n",
       "5                  50               5                 0.1        35.664653   \n",
       "11                 50               3                   1        36.703013   \n",
       "10                 30               3                   1        37.458088   \n",
       "13                 30               5                   1        39.056313   \n",
       "4                  30               5                 0.1        39.354899   \n",
       "12                 10               5                   1        39.450557   \n",
       "14                 50               5                   1        39.730580   \n",
       "2                  50               3                 0.1        40.602042   \n",
       "9                  10               3                   1        41.602175   \n",
       "7                  30            None                 0.1        45.588320   \n",
       "1                  30               3                 0.1        45.756084   \n",
       "8                  50            None                 0.1        45.863965   \n",
       "17                 50            None                   1        47.245184   \n",
       "16                 30            None                   1        47.305145   \n",
       "15                 10            None                   1        47.519112   \n",
       "6                  10            None                 0.1        51.961816   \n",
       "3                  10               5                 0.1        56.354543   \n",
       "0                  10               3                 0.1        62.270268   \n",
       "\n",
       "    rank_test_score  \n",
       "5                 1  \n",
       "11                2  \n",
       "10                3  \n",
       "13                4  \n",
       "4                 5  \n",
       "12                6  \n",
       "14                7  \n",
       "2                 8  \n",
       "9                 9  \n",
       "7                10  \n",
       "1                11  \n",
       "8                12  \n",
       "17               13  \n",
       "16               14  \n",
       "15               15  \n",
       "6                16  \n",
       "3                17  \n",
       "0                18  "
      ]
     },
     "execution_count": 3,
     "metadata": {},
     "output_type": "execute_result"
    }
   ],
   "source": [
    "from sklearn.ensemble import GradientBoostingRegressor\n",
    "\n",
    "param_grid = {\n",
    "    \"n_estimators\": [10, 30, 50],\n",
    "    \"max_depth\": [3, 5, None],\n",
    "    \"learning_rate\": [0.1, 1],\n",
    "}\n",
    "grid_search = GridSearchCV(\n",
    "    GradientBoostingRegressor(), param_grid=param_grid,\n",
    "    scoring=\"neg_mean_absolute_error\", n_jobs=2\n",
    ")\n",
    "grid_search.fit(data_train, target_train)\n",
    "\n",
    "columns = [f\"param_{name}\" for name in param_grid.keys()]\n",
    "columns += [\"mean_test_score\", \"rank_test_score\"]\n",
    "cv_results = pd.DataFrame(grid_search.cv_results_)\n",
    "cv_results[\"mean_test_score\"] = -cv_results[\"mean_test_score\"]\n",
    "cv_results[columns].sort_values(by=\"rank_test_score\")"
   ]
  },
  {
   "cell_type": "markdown",
   "metadata": {},
   "source": [
    "<div class=\"admonition tip alert alert-warning\">\n",
    "<p class=\"first admonition-title\" style=\"font-weight: bold;\">Caution!</p>\n",
    "<p>Aqui, ajustamos os n_estimators, mas esteja ciente de que usar a parada antecipada como no exercício anterior será melhor.</p>"
   ]
  },
  {
   "cell_type": "markdown",
   "metadata": {},
   "source": [
    "# 📝 Exercício M6.05\n",
    "\n",
    "O objetivo do exercício é familiarizar-se com o aumento de gradiente do histograma no scikit-learn. Além disso, usaremos este modelo em uma estrutura de validação cruzada para inspecionar parâmetros internos encontrados por meio de pesquisa em grade.\n",
    "\n",
    "Usaremos o conjunto de dados de habitação da Califórnia."
   ]
  },
  {
   "cell_type": "code",
   "execution_count": 4,
   "metadata": {},
   "outputs": [],
   "source": [
    "from sklearn.datasets import fetch_california_housing\n",
    "\n",
    "data, target = fetch_california_housing(return_X_y=True, as_frame=True)\n",
    "target *= 100  # rescale the target in k$"
   ]
  },
  {
   "cell_type": "markdown",
   "metadata": {},
   "source": [
    "Primeiro, crie um regressor de aumento de gradiente de histograma. Você pode definir o número de árvores para ser grande e configurar o modelo para usar a parada antecipada."
   ]
  },
  {
   "cell_type": "code",
   "execution_count": 5,
   "metadata": {},
   "outputs": [],
   "source": [
    "# solution\n",
    "from sklearn.experimental import enable_hist_gradient_boosting\n",
    "from sklearn.ensemble import HistGradientBoostingRegressor\n",
    "\n",
    "hist_gbdt = HistGradientBoostingRegressor(\n",
    "    max_iter=1000, early_stopping=True, random_state=0)"
   ]
  },
  {
   "cell_type": "markdown",
   "metadata": {},
   "source": [
    "Usaremos uma pesquisa em grade para encontrar algum parâmetro ideal para este modelo. Nesta pesquisa em grade, você deve pesquisar os seguintes parâmetros:\n",
    "\n",
    "* `max_depth: [3, 8]`;\n",
    "* `max_leaf_nodes: [15, 31]`;\n",
    "* `learning_rate: [0,1, 1]`.\n",
    "\n",
    "Sinta-se à vontade para explorar o espaço com valores adicionais. Crie a pesquisa em grade fornecendo a instância de aumento de gradiente anterior como o modelo."
   ]
  },
  {
   "cell_type": "code",
   "execution_count": 6,
   "metadata": {},
   "outputs": [],
   "source": [
    "# solution\n",
    "from sklearn.model_selection import GridSearchCV\n",
    "\n",
    "params = {\n",
    "    \"max_depth\": [3, 8],\n",
    "    \"max_leaf_nodes\": [15, 31],\n",
    "    \"learning_rate\": [0.1, 1],\n",
    "}\n",
    "\n",
    "search = GridSearchCV(hist_gbdt, params)"
   ]
  },
  {
   "cell_type": "markdown",
   "metadata": {},
   "source": [
    "Por fim, faremos nosso experimento por meio de validação cruzada. A este respeito, defina uma validação cruzada de 5 vezes. Além disso, certifique-se de embaralhar os dados. Posteriormente, use a função `sklearn.model_selection.cross_validate` para executar a validação cruzada. Você também deve definir `return_estimator = True`, para que possamos investigar o modelo interno treinado por meio de validação cruzada."
   ]
  },
  {
   "cell_type": "code",
   "execution_count": 7,
   "metadata": {},
   "outputs": [],
   "source": [
    "# solution\n",
    "from sklearn.model_selection import cross_validate\n",
    "from sklearn.model_selection import KFold\n",
    "\n",
    "cv = KFold(n_splits=5, shuffle=True, random_state=0)\n",
    "results = cross_validate(\n",
    "    search, data, target, cv=cv, return_estimator=True, n_jobs=2)"
   ]
  },
  {
   "cell_type": "markdown",
   "metadata": {},
   "source": [
    "Agora que obtivemos os resultados da validação cruzada, imprima a pontuação média e o desvio padrão."
   ]
  },
  {
   "cell_type": "code",
   "execution_count": 8,
   "metadata": {},
   "outputs": [
    {
     "name": "stdout",
     "output_type": "stream",
     "text": [
      "R2 score with cross-validation:\n",
      "0.839 +/- 0.006\n"
     ]
    }
   ],
   "source": [
    "# solution\n",
    "print(f\"R2 score with cross-validation:\\n\"\n",
    "      f\"{results['test_score'].mean():.3f} +/- \"\n",
    "      f\"{results['test_score'].std():.3f}\")"
   ]
  },
  {
   "cell_type": "markdown",
   "metadata": {},
   "source": [
    "Em seguida, inspecione a entrada do `estimator` dos resultados e verifique os melhores valores dos parâmetros. Além disso, verifique a quantidade de árvores utilizadas pelo modelo."
   ]
  },
  {
   "cell_type": "code",
   "execution_count": 9,
   "metadata": {},
   "outputs": [
    {
     "name": "stdout",
     "output_type": "stream",
     "text": [
      "{'learning_rate': 0.1, 'max_depth': 3, 'max_leaf_nodes': 15}\n",
      "# trees: 528\n",
      "{'learning_rate': 0.1, 'max_depth': 8, 'max_leaf_nodes': 15}\n",
      "# trees: 447\n",
      "{'learning_rate': 0.1, 'max_depth': 3, 'max_leaf_nodes': 15}\n",
      "# trees: 576\n",
      "{'learning_rate': 0.1, 'max_depth': 8, 'max_leaf_nodes': 15}\n",
      "# trees: 290\n",
      "{'learning_rate': 0.1, 'max_depth': 8, 'max_leaf_nodes': 15}\n",
      "# trees: 414\n"
     ]
    }
   ],
   "source": [
    "# solution\n",
    "for estimator in results[\"estimator\"]:\n",
    "    print(estimator.best_params_)\n",
    "    print(f\"# trees: {estimator.best_estimator_.n_iter_}\")"
   ]
  },
  {
   "cell_type": "markdown",
   "metadata": {},
   "source": [
    "Inspecione os resultados do CV interno para cada estimador do CV externo. Agregue a pontuação média do teste para cada combinação de parâmetros e faça um gráfico de caixa dessas pontuações."
   ]
  },
  {
   "cell_type": "code",
   "execution_count": 10,
   "metadata": {},
   "outputs": [],
   "source": [
    "# solution\n",
    "import pandas as pd\n",
    "\n",
    "index_columns = [f\"param_{name}\" for name in params.keys()]\n",
    "columns = index_columns + [\"mean_test_score\"]\n",
    "\n",
    "inner_cv_results = []\n",
    "for cv_idx, estimator in enumerate(results[\"estimator\"]):\n",
    "    search_cv_results = pd.DataFrame(estimator.cv_results_)\n",
    "    search_cv_results = search_cv_results[columns].set_index(index_columns)\n",
    "    search_cv_results = search_cv_results.rename(\n",
    "        columns={\"mean_test_score\": f\"CV {cv_idx}\"})\n",
    "    inner_cv_results.append(search_cv_results)\n",
    "inner_cv_results = pd.concat(inner_cv_results, axis=1).T"
   ]
  },
  {
   "cell_type": "code",
   "execution_count": 11,
   "metadata": {},
   "outputs": [
    {
     "data": {
      "image/png": "[encoded data removed]",
      "text/plain": [
       "<Figure size 432x288 with 1 Axes>"
      ]
     },
     "metadata": {
      "needs_background": "light"
     },
     "output_type": "display_data"
    }
   ],
   "source": [
    "import matplotlib.pyplot as plt\n",
    "\n",
    "color = {\"whiskers\": \"black\", \"medians\": \"black\", \"caps\": \"black\"}\n",
    "inner_cv_results.plot.box(vert=False, color=color)\n",
    "plt.xlabel(\"R2 score\")\n",
    "plt.ylabel(\"Parameters\")\n",
    "_ = plt.title(\"Inner CV results with parameters\\n\"\n",
    "              \"(max_depth, max_leaf_nodes, learning_rate)\")"
   ]
  },
  {
   "cell_type": "markdown",
   "metadata": {},
   "source": [
    "Vemos que os primeiros 4 conjuntos de parâmetros classificados estão muito próximos. Podemos selecionar qualquer uma dessas 4 combinações. Ele coincide com os resultados que observamos ao inspecionar os melhores parâmetros do CV externo."
   ]
  }
 ],
 "metadata": {
  "kernelspec": {
   "display_name": "Python 3",
   "language": "python",
   "name": "python3"
  },
  "language_info": {
   "codemirror_mode": {
    "name": "ipython",
    "version": 3
   },
   "file_extension": ".py",
   "mimetype": "text/x-python",
   "name": "python",
   "nbconvert_exporter": "python",
   "pygments_lexer": "ipython3",
   "version": "3.8.5"
  }
 },
 "nbformat": 4,
 "nbformat_minor": 4
}
