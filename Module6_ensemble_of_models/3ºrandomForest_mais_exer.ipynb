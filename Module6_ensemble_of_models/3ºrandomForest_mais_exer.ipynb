{
 "cells": [
  {
   "cell_type": "markdown",
   "metadata": {},
   "source": [
    "# Random Forest\n",
    "\n",
    "Neste caderno, apresentaremos os modelos de floresta aleatórios e mostraremos as diferenças com os conjuntos de ensacamento.\n",
    "\n",
    "Florestas aleatórias são um modelo popular em aprendizado de máquina. Eles são uma modificação do algoritmo de bagging. No bagging, qualquer classificador ou regressor pode ser usado. Em florestas aleatórias, o classificador ou regressor base é sempre uma árvore de decisão.\n",
    "\n",
    "Florestas aleatórias têm outra particularidade: ao treinar uma árvore, a busca pela melhor divisão é feita apenas em um subconjunto das características originais tomadas aleatoriamente. Os subconjuntos aleatórios são diferentes para cada nó dividido. O objetivo é injetar randomização adicional no procedimento de aprendizagem para tentar descorrelacionar os erros de predição das árvores individuais.\n",
    "\n",
    "Portanto, as florestas aleatórias estão usando a randomização em ambos os eixos da matriz de dados:\n",
    "\n",
    "por bootstrapping de amostras para cada árvore na floresta;\n",
    "selecionar aleatoriamente um subconjunto de recursos em cada nó da árvore.\n",
    "\n",
    "Uma olhada em random forest\n",
    "\n",
    "Ilustraremos o uso de um classificador de floresta aleatório no conjunto de dados do censo de adultos."
   ]
  },
  {
   "cell_type": "code",
   "execution_count": 6,
   "metadata": {},
   "outputs": [
    {
     "data": {
      "text/plain": [
       "('C:/Users/Rogerio Lopes/Desktop/Rogerio/Machine_Learning_With_Scikit_Learn/Module6_ensemble_of_models/adult-census.csv',\n",
       " <http.client.HTTPMessage at 0x230df65d2b0>)"
      ]
     },
     "execution_count": 6,
     "metadata": {},
     "output_type": "execute_result"
    }
   ],
   "source": [
    "from urllib.request import urlretrieve \n",
    "# lembre de sempre pegar o arquivo do tipo RAW no github \n",
    "url = 'https://raw.githubusercontent.com/INRIA/scikit-learn-mooc/master/datasets/adult-census.csv'\n",
    "urlretrieve(url, 'C:/Users/Rogerio Lopes/Desktop/Rogerio/Machine_Learning_With_Scikit_Learn/Module6_ensemble_of_models/adult-census.csv')"
   ]
  },
  {
   "cell_type": "code",
   "execution_count": 14,
   "metadata": {},
   "outputs": [],
   "source": [
    "import pandas as pd\n",
    "\n",
    "adult_census = pd.read_csv(\"adult-census.csv\")\n",
    "target_name = \"class\"\n",
    "data = adult_census.drop(columns=[target_name, \"education-num\", \"native-country\"])\n",
    "target = adult_census[target_name]"
   ]
  },
  {
   "cell_type": "markdown",
   "metadata": {},
   "source": [
    "<div class=\"admonition note alert alert-info\">\n",
    "<p class=\"first admonition-title\" style=\"font-weight: bold;\">Note</p>\n",
    "<p class=\"last\"> Se você quiser uma visão geral mais detalhada sobre este conjunto de dados, pode consultar o\n",
    "Apêndice - seção de descrição dos conjuntos de dados no final deste MOOC. </p>\n",
    "</div>"
   ]
  },
  {
   "cell_type": "markdown",
   "metadata": {},
   "source": [
    "O censo de adultos contém alguns dados categóricos e codificamos os recursos categóricos usando um OrdinalEncoder, pois os modelos baseados em árvore podem funcionar de maneira muito eficiente com uma representação ingênua de variáveis categóricas.\n",
    "\n",
    "Uma vez que existem categorias raras neste conjunto de dados, precisamos codificar especificamente categorias desconhecidas no momento da previsão para poder usar a validação cruzada. Caso contrário, algumas categorias raras só poderiam estar presentes no lado da validação da divisão de validação cruzada e o OrdinalEncoder geraria um erro ao chamar seu método de transformação com os pontos de dados do conjunto de validação."
   ]
  },
  {
   "cell_type": "code",
   "execution_count": 15,
   "metadata": {},
   "outputs": [],
   "source": [
    "from sklearn.preprocessing import OrdinalEncoder\n",
    "from sklearn.compose import make_column_transformer, make_column_selector\n",
    "\n",
    "categorical_encoder = OrdinalEncoder()\n",
    "\n",
    "preprocessor = make_column_transformer(\n",
    "    (categorical_encoder, make_column_selector(dtype_include=object)),\n",
    "    remainder=\"passthrough\")"
   ]
  },
  {
   "cell_type": "markdown",
   "metadata": {},
   "source": [
    "Primeiro, daremos um exemplo simples onde treinaremos um único classificador de árvore de decisão e verificaremos seu desempenho de generalização por meio de validação cruzada."
   ]
  },
  {
   "cell_type": "code",
   "execution_count": 16,
   "metadata": {},
   "outputs": [],
   "source": [
    "from sklearn.pipeline import make_pipeline\n",
    "from sklearn.tree import DecisionTreeClassifier\n",
    "\n",
    "tree = make_pipeline(preprocessor, DecisionTreeClassifier(random_state=0))"
   ]
  },
  {
   "cell_type": "code",
   "execution_count": 17,
   "metadata": {},
   "outputs": [
    {
     "name": "stdout",
     "output_type": "stream",
     "text": [
      "Decision tree classifier: 0.819 +/- 0.004\n"
     ]
    }
   ],
   "source": [
    "from sklearn.model_selection import cross_val_score\n",
    "\n",
    "scores_tree = cross_val_score(tree, data, target)\n",
    "\n",
    "print(f\"Decision tree classifier: \"\n",
    "      f\"{scores_tree.mean():.3f} +/- {scores_tree.std():.3f}\")"
   ]
  },
  {
   "cell_type": "markdown",
   "metadata": {},
   "source": [
    "De maneira semelhante ao que foi feito no bloco de notas anterior, construímos um BaggingClassifier com um classificador de árvore de decisão como modelo base. Além disso, precisamos especificar quantos modelos queremos combinar. Observe que também precisamos pré-processar os dados e, portanto, usar um pipeline scikit-learn."
   ]
  },
  {
   "cell_type": "code",
   "execution_count": 18,
   "metadata": {},
   "outputs": [],
   "source": [
    "from sklearn.ensemble import BaggingClassifier\n",
    "\n",
    "bagged_trees = make_pipeline(\n",
    "    preprocessor,\n",
    "    BaggingClassifier(\n",
    "        base_estimator=DecisionTreeClassifier(random_state=0),\n",
    "        n_estimators=50, n_jobs=2, random_state=0,\n",
    "    )\n",
    ")"
   ]
  },
  {
   "cell_type": "code",
   "execution_count": 19,
   "metadata": {},
   "outputs": [
    {
     "name": "stdout",
     "output_type": "stream",
     "text": [
      "Bagged decision tree classifier: 0.845 +/- 0.005\n"
     ]
    }
   ],
   "source": [
    "scores_bagged_trees = cross_val_score(bagged_trees, data, target)\n",
    "\n",
    "print(f\"Bagged decision tree classifier: \"\n",
    "      f\"{scores_bagged_trees.mean():.3f} +/- {scores_bagged_trees.std():.3f}\")"
   ]
  },
  {
   "cell_type": "markdown",
   "metadata": {},
   "source": [
    "Observe que o desempenho de generalização das árvores ensacadas já é muito melhor do que o desempenho de uma única árvore.\n",
    "\n",
    "Agora, usaremos uma floresta aleatória. Você observará que não precisamos especificar nenhum base_estimator porque o estimador é forçado a ser uma árvore de decisão. Assim, apenas especificamos o número desejado de árvores na floresta."
   ]
  },
  {
   "cell_type": "code",
   "execution_count": 20,
   "metadata": {},
   "outputs": [],
   "source": [
    "from sklearn.ensemble import RandomForestClassifier\n",
    "\n",
    "random_forest = make_pipeline(\n",
    "    preprocessor,\n",
    "    RandomForestClassifier(n_estimators=50, n_jobs=2, random_state=0)\n",
    ")"
   ]
  },
  {
   "cell_type": "code",
   "execution_count": 21,
   "metadata": {},
   "outputs": [
    {
     "name": "stdout",
     "output_type": "stream",
     "text": [
      "Random forest classifier: 0.850 +/- 0.004\n"
     ]
    }
   ],
   "source": [
    "scores_random_forest = cross_val_score(random_forest, data, target)\n",
    "\n",
    "print(f\"Random forest classifier: \"\n",
    "      f\"{scores_random_forest.mean():.3f} +/- \"\n",
    "      f\"{scores_random_forest.std():.3f}\")"
   ]
  },
  {
   "cell_type": "markdown",
   "metadata": {},
   "source": [
    "Parece que a floresta aleatória está tendo um desempenho ligeiramente melhor do que as árvores ensacadas, possivelmente devido à seleção aleatória das características que decorrelaciona os erros de previsão de árvores individuais e, como consequência, torna a etapa de cálculo da média mais eficiente na redução do sobreajuste.\n",
    "\n",
    "Detalhes sobre hiperparâmetros padrão\n",
    "Para florestas aleatórias, é possível controlar a quantidade de aleatoriedade para cada divisão, definindo o valor do hiperparâmetro max_features:\n",
    "\n",
    "max_features = 0,5 significa que 50% dos recursos são considerados em cada divisão;\n",
    "\n",
    "max_features = 1.0 significa que todos os recursos são considerados em cada divisão, o que desativa efetivamente a subamostragem de recursos.\n",
    "\n",
    "Por padrão, RandomForestRegressor desativa a subamostragem do recurso, enquanto RandomForestClassifier usa max_features = np.sqrt (n_features). Esses valores padrão refletem as boas práticas fornecidas na literatura científica.\n",
    "\n",
    "No entanto, max_features é um dos hiperparâmetros a considerar ao ajustar uma floresta aleatória:\n",
    "\n",
    "muita aleatoriedade nas árvores pode levar a modelos de base mal ajustados e pode ser prejudicial para o conjunto como um todo,\n",
    "muito pouca aleatoriedade nas árvores leva a mais correlação dos erros de previsão e, como resultado, reduz os benefícios da etapa de cálculo da média em termos de controle de sobreajuste.\n",
    "No scikit-learn, as classes de bagging também expõem um parâmetro max_features. No entanto, BaggingClassifier e BaggingRegressor são agnósticos em relação ao seu modelo base e, portanto, a subamostragem de recurso aleatório só pode acontecer uma vez antes de ajustar cada modelo base, em vez de várias vezes por modelo base, como é o caso ao adicionar divisões a uma determinada árvore."
   ]
  },
  {
   "cell_type": "markdown",
   "metadata": {},
   "source": [
    "# 📝 Exercício M6.02\n",
    "\n",
    "O objetivo deste exercício é explorar alguns atributos disponíveis na floresta aleatória do scikit-learn.\n",
    "\n",
    "Primeiro, ajustaremos o conjunto de dados de regressão dos pinguins."
   ]
  },
  {
   "cell_type": "code",
   "execution_count": 23,
   "metadata": {},
   "outputs": [],
   "source": [
    "import pandas as pd\n",
    "from sklearn.model_selection import train_test_split\n",
    "\n",
    "penguins = pd.read_csv(\"penguins_regression.csv\")\n",
    "feature_names = [\"Flipper Length (mm)\"]\n",
    "target_name = \"Body Mass (g)\"\n",
    "data, target = penguins[feature_names], penguins[target_name]\n",
    "data_train, data_test, target_train, target_test = train_test_split(\n",
    "    data, target, random_state=0)"
   ]
  },
  {
   "cell_type": "markdown",
   "metadata": {},
   "source": [
    "<div class=\"admonition note alert alert-info\">\n",
    "<p class=\"first admonition-title\" style=\"font-weight: bold;\">Note</p>\n",
    "<p class=\"last\"> Se você quiser uma visão geral mais detalhada sobre este conjunto de dados, pode consultar o\n",
    "Apêndice - seção de descrição dos conjuntos de dados no final deste MOOC. </p>\n",
    "</div>"
   ]
  },
  {
   "cell_type": "markdown",
   "metadata": {},
   "source": [
    "Crie uma random forest contendo três árvores. Treine a floresta e verifique o desempenho da generalização no conjunto de teste em termos de erro médio absoluto."
   ]
  },
  {
   "cell_type": "code",
   "execution_count": 24,
   "metadata": {},
   "outputs": [
    {
     "name": "stdout",
     "output_type": "stream",
     "text": [
      "Mean absolute error: 368.211 grams\n"
     ]
    }
   ],
   "source": [
    "# solution\n",
    "from sklearn.metrics import mean_absolute_error\n",
    "from sklearn.ensemble import RandomForestRegressor\n",
    "\n",
    "forest = RandomForestRegressor(n_estimators=3)\n",
    "forest.fit(data_train, target_train)\n",
    "target_predicted = forest.predict(data_test)\n",
    "print(f\"Mean absolute error: \"\n",
    "      f\"{mean_absolute_error(target_test, target_predicted):.3f} grams\")"
   ]
  },
  {
   "cell_type": "markdown",
   "metadata": {},
   "source": [
    "As próximas etapas deste exercício são:\n",
    "\n",
    "* criar um novo conjunto de dados contendo os pinguins com comprimento de nadadeira entre 170 mm e 230 mm;\n",
    "* plotar os dados de treinamento usando um gráfico de dispersão;\n",
    "* traçar a decisão de cada árvore individual, prevendo no conjunto de dados recém-criado;\n",
    "* traçar a decisão da floresta aleatória usando este conjunto de dados recém-criado."
   ]
  },
  {
   "cell_type": "code",
   "execution_count": 25,
   "metadata": {},
   "outputs": [],
   "source": [
    "# solution\n",
    "import numpy as np\n",
    "\n",
    "data_ranges = pd.DataFrame(np.linspace(170, 235, num=300),\n",
    "                           columns=data.columns)\n",
    "tree_predictions = []\n",
    "for tree in forest.estimators_:\n",
    "    tree_predictions.append(tree.predict(data_ranges))\n",
    "\n",
    "forest_predictions = forest.predict(data_ranges)"
   ]
  },
  {
   "cell_type": "code",
   "execution_count": 26,
   "metadata": {},
   "outputs": [
    {
     "data": {
      "image/png": "[encoded data removed]",
      "text/plain": [
       "<Figure size 432x288 with 1 Axes>"
      ]
     },
     "metadata": {
      "needs_background": "light"
     },
     "output_type": "display_data"
    }
   ],
   "source": [
    "import matplotlib.pyplot as plt\n",
    "import seaborn as sns\n",
    "\n",
    "sns.scatterplot(data=penguins, x=feature_names[0], y=target_name,\n",
    "                color=\"black\", alpha=0.5)\n",
    "\n",
    "# plot tree predictions\n",
    "for tree_idx, predictions in enumerate(tree_predictions):\n",
    "    plt.plot(data_ranges, predictions, label=f\"Tree #{tree_idx}\",\n",
    "             linestyle=\"--\", alpha=0.8)\n",
    "\n",
    "plt.plot(data_ranges, forest_predictions, label=f\"Random forest\")\n",
    "_ = plt.legend()"
   ]
  },
  {
   "cell_type": "code",
   "execution_count": null,
   "metadata": {},
   "outputs": [],
   "source": []
  },
  {
   "cell_type": "code",
   "execution_count": null,
   "metadata": {},
   "outputs": [],
   "source": []
  }
 ],
 "metadata": {
  "kernelspec": {
   "display_name": "Python 3",
   "language": "python",
   "name": "python3"
  },
  "language_info": {
   "codemirror_mode": {
    "name": "ipython",
    "version": 3
   },
   "file_extension": ".py",
   "mimetype": "text/x-python",
   "name": "python",
   "nbconvert_exporter": "python",
   "pygments_lexer": "ipython3",
   "version": "3.8.5"
  }
 },
 "nbformat": 4,
 "nbformat_minor": 4
}
